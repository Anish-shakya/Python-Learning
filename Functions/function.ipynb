{
 "cells": [
  {
   "cell_type": "code",
   "execution_count": 3,
   "metadata": {},
   "outputs": [
    {
     "name": "stdout",
     "output_type": "stream",
     "text": [
      "hello world\n",
      "Hello Anish\n"
     ]
    }
   ],
   "source": [
    "## Simple Function\n",
    "def func():\n",
    "    print('hello world')\n",
    "\n",
    "func()\n",
    "\n",
    "def say_hello():\n",
    "    name = input('Enter your name:')\n",
    "    print(f'Hello {name}')\n",
    "\n",
    "say_hello()"
   ]
  },
  {
   "cell_type": "code",
   "execution_count": 7,
   "metadata": {},
   "outputs": [
    {
     "name": "stdout",
     "output_type": "stream",
     "text": [
      "Hello Anish\n",
      "Sum of 5 and 5 is 10\n"
     ]
    }
   ],
   "source": [
    "## Parameterized Functions\n",
    "\n",
    "def greet(name):\n",
    "    print(f'Hello {name}')\n",
    "\n",
    "greet('Anish')\n",
    "\n",
    "\n",
    "def add(a,b):\n",
    "    sum = a+b\n",
    "    print(f'Sum of {a} and {b} is {sum}')\n",
    "\n",
    "add(5,5)"
   ]
  },
  {
   "cell_type": "code",
   "execution_count": 8,
   "metadata": {},
   "outputs": [
    {
     "data": {
      "text/plain": [
       "6"
      ]
     },
     "execution_count": 8,
     "metadata": {},
     "output_type": "execute_result"
    }
   ],
   "source": [
    "## Function that Returns a Value\n",
    "\n",
    "def multiply(a,b):\n",
    "    return a*b\n",
    "\n",
    "multiply(2,3)"
   ]
  },
  {
   "cell_type": "code",
   "execution_count": 11,
   "metadata": {},
   "outputs": [
    {
     "name": "stdout",
     "output_type": "stream",
     "text": [
      "Hello Guest:18\n",
      "Hello Anish:20\n"
     ]
    }
   ],
   "source": [
    "## Default parameter\n",
    "\n",
    "def name(name='Guest',age=18):\n",
    "    print(f'Hello {name}:{age}')\n",
    "\n",
    "name()\n",
    "name('Anish',20)"
   ]
  },
  {
   "cell_type": "code",
   "execution_count": null,
   "metadata": {},
   "outputs": [
    {
     "name": "stdout",
     "output_type": "stream",
     "text": [
      "1500\n"
     ]
    }
   ],
   "source": [
    "# *args is used then we don't know how many argument are going to pass in the functions)\n",
    "\n",
    "def add(*num):\n",
    "    print(sum(num))\n",
    "    \n",
    "add(100,200,300,400,500)"
   ]
  },
  {
   "cell_type": "code",
   "execution_count": 16,
   "metadata": {},
   "outputs": [
    {
     "name": "stdout",
     "output_type": "stream",
     "text": [
      "Name:Anish Shakya\n",
      "Age:20\n",
      "Profession:Data Analyst\n",
      "Education:Bachelors in Computer Application\n",
      "---------------------------------------\n",
      "Name:Anish Shakya\n",
      "Age:21\n",
      "Profession:Data Engineer\n",
      "Education:Bachelors in Information Technology\n"
     ]
    }
   ],
   "source": [
    "# **kwargs is used for multiple keyword positons\n",
    "\n",
    "def employee(**details):\n",
    "    for key,value in details.items():\n",
    "        print(f\"{key}:{value}\")\n",
    "        \n",
    "employee(Name='Anish Shakya',Age=20,Profession='Data Analyst',Education ='Bachelors in Computer Application')\n",
    "print('---------------------------------------')\n",
    "employee(Name='Anish Shakya',Age=21,Profession='Data Engineer',Education ='Bachelors in Information Technology')"
   ]
  },
  {
   "cell_type": "code",
   "execution_count": 20,
   "metadata": {},
   "outputs": [
    {
     "name": "stdout",
     "output_type": "stream",
     "text": [
      "User Id is : 101\n",
      "User Information for user id 101\n",
      "Name:Anish Shakya\n",
      "Department:Data Analyst\n",
      "User Id is : 102\n",
      "User Information for user id 102\n",
      "Name:Anish Shakya\n",
      "Department:Data Analyst\n"
     ]
    }
   ],
   "source": [
    "def user_info(*id,**details):\n",
    "    for user_id in id:\n",
    "        print(f'User Id is : {user_id}')\n",
    "        print(f'User Information for user id {user_id}')\n",
    "        for key,value in details.items():\n",
    "            print(f'{key}:{value}')\n",
    "            \n",
    "user_info(101,102,Name='Anish Shakya',Department='Data Analyst')"
   ]
  },
  {
   "cell_type": "code",
   "execution_count": 1,
   "metadata": {},
   "outputs": [],
   "source": [
    "def generate_bills(bill_no,*items,**customer_details):\n",
    "    print(f'Details for bill_no {bill_no}')\n",
    "    \n",
    "    for key,value in customer_details.items():\n",
    "        print(f'{key}:{value}')\n",
    "    print('Items Ordered:')\n",
    "    total_amount = 0\n",
    "    \n",
    "    for item in items:\n",
    "        item_name,item_amt  = item\n",
    "        print(f'{item_name} : Rs.{item_amt}')\n",
    "        total_amount +=item\n",
    "    print(f'Total Bill Amount is : {total_amount}')"
   ]
  },
  {
   "cell_type": "code",
   "execution_count": 2,
   "metadata": {},
   "outputs": [
    {
     "name": "stdout",
     "output_type": "stream",
     "text": [
      "Details for bill_no 101\n",
      "Customer:Anish Shakya\n",
      "Table_Number:12\n",
      "Waiter:Ramesh Shrestha\n",
      "Items Ordered:\n",
      "Pizza : Rs.200\n"
     ]
    },
    {
     "ename": "TypeError",
     "evalue": "unsupported operand type(s) for +=: 'int' and 'tuple'",
     "output_type": "error",
     "traceback": [
      "\u001b[31m---------------------------------------------------------------------------\u001b[39m",
      "\u001b[31mTypeError\u001b[39m                                 Traceback (most recent call last)",
      "\u001b[36mCell\u001b[39m\u001b[36m \u001b[39m\u001b[32mIn[2]\u001b[39m\u001b[32m, line 1\u001b[39m\n\u001b[32m----> \u001b[39m\u001b[32m1\u001b[39m \u001b[43mgenerate_bills\u001b[49m\u001b[43m(\u001b[49m\u001b[32;43m101\u001b[39;49m\u001b[43m,\u001b[49m\u001b[43m(\u001b[49m\u001b[33;43m'\u001b[39;49m\u001b[33;43mPizza\u001b[39;49m\u001b[33;43m'\u001b[39;49m\u001b[43m,\u001b[49m\u001b[32;43m200\u001b[39;49m\u001b[43m)\u001b[49m\u001b[43m,\u001b[49m\u001b[43m(\u001b[49m\u001b[33;43m'\u001b[39;49m\u001b[33;43mBurger\u001b[39;49m\u001b[33;43m'\u001b[39;49m\u001b[43m,\u001b[49m\u001b[32;43m100\u001b[39;49m\u001b[43m)\u001b[49m\u001b[43m,\u001b[49m\u001b[43m(\u001b[49m\u001b[33;43m'\u001b[39;49m\u001b[33;43mMo:Mo\u001b[39;49m\u001b[33;43m'\u001b[39;49m\u001b[43m,\u001b[49m\u001b[32;43m140\u001b[39;49m\u001b[43m)\u001b[49m\u001b[43m,\u001b[49m\u001b[43mCustomer\u001b[49m\u001b[43m=\u001b[49m\u001b[33;43m'\u001b[39;49m\u001b[33;43mAnish Shakya\u001b[39;49m\u001b[33;43m'\u001b[39;49m\u001b[43m,\u001b[49m\u001b[43mTable_Number\u001b[49m\u001b[43m \u001b[49m\u001b[43m=\u001b[49m\u001b[43m \u001b[49m\u001b[32;43m12\u001b[39;49m\u001b[43m,\u001b[49m\u001b[43mWaiter\u001b[49m\u001b[43m=\u001b[49m\u001b[33;43m'\u001b[39;49m\u001b[33;43mRamesh Shrestha\u001b[39;49m\u001b[33;43m'\u001b[39;49m\u001b[43m)\u001b[49m\n",
      "\u001b[36mCell\u001b[39m\u001b[36m \u001b[39m\u001b[32mIn[1]\u001b[39m\u001b[32m, line 12\u001b[39m, in \u001b[36mgenerate_bills\u001b[39m\u001b[34m(bill_no, *items, **customer_details)\u001b[39m\n\u001b[32m     10\u001b[39m     item_name,item_amt  = item\n\u001b[32m     11\u001b[39m     \u001b[38;5;28mprint\u001b[39m(\u001b[33mf\u001b[39m\u001b[33m'\u001b[39m\u001b[38;5;132;01m{\u001b[39;00mitem_name\u001b[38;5;132;01m}\u001b[39;00m\u001b[33m : Rs.\u001b[39m\u001b[38;5;132;01m{\u001b[39;00mitem_amt\u001b[38;5;132;01m}\u001b[39;00m\u001b[33m'\u001b[39m)\n\u001b[32m---> \u001b[39m\u001b[32m12\u001b[39m     \u001b[43mtotal_amount\u001b[49m\u001b[43m \u001b[49m\u001b[43m+\u001b[49m\u001b[43m=\u001b[49m\u001b[43mitem\u001b[49m\n\u001b[32m     13\u001b[39m \u001b[38;5;28mprint\u001b[39m(\u001b[33mf\u001b[39m\u001b[33m'\u001b[39m\u001b[33mTotal Bill Amount is : \u001b[39m\u001b[38;5;132;01m{\u001b[39;00mtotal_amount\u001b[38;5;132;01m}\u001b[39;00m\u001b[33m'\u001b[39m)\n",
      "\u001b[31mTypeError\u001b[39m: unsupported operand type(s) for +=: 'int' and 'tuple'"
     ]
    }
   ],
   "source": [
    "generate_bills(101,('Pizza',200),('Burger',100),('Mo:Mo',140),Customer='Anish Shakya',Table_Number = 12,Waiter='Ramesh Shrestha')"
   ]
  }
 ],
 "metadata": {
  "kernelspec": {
   "display_name": "mylearnings",
   "language": "python",
   "name": "python3"
  },
  "language_info": {
   "codemirror_mode": {
    "name": "ipython",
    "version": 3
   },
   "file_extension": ".py",
   "mimetype": "text/x-python",
   "name": "python",
   "nbconvert_exporter": "python",
   "pygments_lexer": "ipython3",
   "version": "3.13.2"
  }
 },
 "nbformat": 4,
 "nbformat_minor": 2
}
