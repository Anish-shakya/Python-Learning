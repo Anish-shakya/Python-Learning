{
 "cells": [
  {
   "attachments": {},
   "cell_type": "markdown",
   "metadata": {},
   "source": [
    "variable Scope = the region that a variable is recognized. A variable is only available from inside the region it is created. A global and locally \n",
    "scoped version of a variable can be created"
   ]
  },
  {
   "cell_type": "code",
   "execution_count": 3,
   "metadata": {},
   "outputs": [
    {
     "name": "stdout",
     "output_type": "stream",
     "text": [
      "Anish\n",
      "Anish\n"
     ]
    }
   ],
   "source": [
    "name = \"Anish\" # It is global vatibale and it has global scope and can be access from anywhere within module you are working \n",
    "                # with\n",
    "def DisplayName():\n",
    "    #name=\"shakya\" #It is local variable and it has local scope it  cannot be access outside the function\n",
    "    print(name)\n",
    "\n",
    "DisplayName()\n",
    "print(name)"
   ]
  }
 ],
 "metadata": {
  "kernelspec": {
   "display_name": "Python 3",
   "language": "python",
   "name": "python3"
  },
  "language_info": {
   "codemirror_mode": {
    "name": "ipython",
    "version": 3
   },
   "file_extension": ".py",
   "mimetype": "text/x-python",
   "name": "python",
   "nbconvert_exporter": "python",
   "pygments_lexer": "ipython3",
   "version": "3.11.2"
  },
  "orig_nbformat": 4
 },
 "nbformat": 4,
 "nbformat_minor": 2
}
