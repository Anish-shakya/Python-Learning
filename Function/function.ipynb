{
 "cells": [
  {
   "attachments": {},
   "cell_type": "markdown",
   "metadata": {},
   "source": [
    "Function = a block of code which is executed only when it is called"
   ]
  },
  {
   "cell_type": "code",
   "execution_count": null,
   "metadata": {},
   "outputs": [],
   "source": [
    "def hello(FirstName,LastName,Age):\n",
    "    print(f'hello {FirstName} {LastName} and your age is {Age} years')\n",
    "    print('Have a nice day')\n",
    "\n",
    "\n",
    "FirstName = input('enter first name')\n",
    "LastName = input('enter last name')\n",
    "Age = int(input('enter age'))\n",
    "hello(FirstName,LastName,Age)\n",
    "\n",
    "\n",
    "def sum(a,b):\n",
    "    return a+b\n",
    "\n",
    "print(sum(2,9))\n",
    "\n"
   ]
  },
  {
   "cell_type": "code",
   "execution_count": null,
   "metadata": {},
   "outputs": [],
   "source": [
    "##return statement = function send python values/object back to the caller.\n",
    "\n",
    "def calulate(a,b,ope):\n",
    "    if(ope == '+'):\n",
    "        return a+b\n",
    "    elif(ope == '-'):\n",
    "        return a-b\n",
    "    elif(ope == '*'):\n",
    "        return a*b\n",
    "    else:\n",
    "        return 0\n",
    "    \n",
    "\n",
    "a = int(input('enter valur for a'))\n",
    "b = int(input('enter valur for b'))\n",
    "ope = input('enter operator')\n",
    "\n",
    "print(calulate(a,b,ope))\n",
    "    "
   ]
  },
  {
   "attachments": {},
   "cell_type": "markdown",
   "metadata": {},
   "source": [
    "Keyword arguments = arguments preceded by an identifier when we pass them to a funtion.The order of the aruguments doesn;t matter,unlike positional"
   ]
  },
  {
   "cell_type": "code",
   "execution_count": 20,
   "metadata": {},
   "outputs": [
    {
     "name": "stdout",
     "output_type": "stream",
     "text": [
      "hello anish null shakya\n"
     ]
    }
   ],
   "source": [
    "def hello(first,middle,last):\n",
    "    print(f'hello {first} {middle} {last}')\n",
    "\n",
    "hello(last='shakya',first='anish',middle='null')"
   ]
  }
 ],
 "metadata": {
  "kernelspec": {
   "display_name": "Python 3",
   "language": "python",
   "name": "python3"
  },
  "language_info": {
   "codemirror_mode": {
    "name": "ipython",
    "version": 3
   },
   "file_extension": ".py",
   "mimetype": "text/x-python",
   "name": "python",
   "nbconvert_exporter": "python",
   "pygments_lexer": "ipython3",
   "version": "3.11.2"
  },
  "orig_nbformat": 4
 },
 "nbformat": 4,
 "nbformat_minor": 2
}
