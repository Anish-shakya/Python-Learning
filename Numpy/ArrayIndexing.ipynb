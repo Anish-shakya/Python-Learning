{
 "cells": [
  {
   "cell_type": "markdown",
   "metadata": {},
   "source": [
    "Array indexing is the same as accessing an array elements"
   ]
  },
  {
   "cell_type": "code",
   "execution_count": null,
   "metadata": {},
   "outputs": [],
   "source": [
    "import numpy as np"
   ]
  },
  {
   "cell_type": "code",
   "execution_count": null,
   "metadata": {},
   "outputs": [],
   "source": [
    "arr = np.array([1,2,3,4])\n",
    "arr[0]\n",
    "arr[1]"
   ]
  },
  {
   "cell_type": "code",
   "execution_count": 12,
   "metadata": {},
   "outputs": [
    {
     "name": "stdout",
     "output_type": "stream",
     "text": [
      "The 3rd element on first for is 3\n"
     ]
    }
   ],
   "source": [
    "## Accessing 2d Array\n",
    "arr = np.array([[1,2,3,4,5],[6,7,8,9,10]])\n",
    "\n",
    "print(f'The 3rd element on first for is {arr[0,2]}')"
   ]
  },
  {
   "cell_type": "code",
   "execution_count": 30,
   "metadata": {},
   "outputs": [
    {
     "data": {
      "text/plain": [
       "5"
      ]
     },
     "execution_count": 30,
     "metadata": {},
     "output_type": "execute_result"
    }
   ],
   "source": [
    "### Accessing 3d Array\n",
    "\n",
    "arr = np.array([[[1,2,3],[4,5,6]],[[7,8,9],[10,11,12]]])\n",
    "arr[0,1,1] ### 5 \n",
    "## Explanation\n",
    "\n",
    "##The first number represent 1 dimension which contains two array\n",
    "## i.e [[1,2,3],[4,5,6]] and [[7,8,9],[10,11,12]]\n",
    "## since we have selected 0 we are left with [[1,2,3],[4,5,6]]\n",
    "\n",
    "## The second number represent 2 dimension which contains 2 array\n",
    "## i.e [1,2,3] and [4,5,6]\n",
    "## since we selected 1 we are left with [4,5,6]\n",
    "\n",
    "## The third number represent 3 dimension which cotains 3 values\n",
    "## 4 5 6\n",
    "## since we selected 1 answer is 5"
   ]
  },
  {
   "cell_type": "code",
   "execution_count": null,
   "metadata": {},
   "outputs": [],
   "source": []
  }
 ],
 "metadata": {
  "kernelspec": {
   "display_name": "Python 3",
   "language": "python",
   "name": "python3"
  },
  "language_info": {
   "codemirror_mode": {
    "name": "ipython",
    "version": 3
   },
   "file_extension": ".py",
   "mimetype": "text/x-python",
   "name": "python",
   "nbconvert_exporter": "python",
   "pygments_lexer": "ipython3",
   "version": "3.12.1"
  }
 },
 "nbformat": 4,
 "nbformat_minor": 2
}
