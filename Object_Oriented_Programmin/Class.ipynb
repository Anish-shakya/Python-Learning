{
 "cells": [
  {
   "attachments": {},
   "cell_type": "markdown",
   "metadata": {},
   "source": [
    "Class = act as a Blueprint"
   ]
  },
  {
   "cell_type": "code",
   "execution_count": 5,
   "metadata": {},
   "outputs": [
    {
     "name": "stdout",
     "output_type": "stream",
     "text": [
      "Chevy\n",
      "Corvette\n",
      "2021\n",
      "black\n",
      "This car is driving\n",
      "This car is stopped\n"
     ]
    }
   ],
   "source": [
    "\n",
    "## defining the class\n",
    "class Car:\n",
    "\n",
    "    def __init__(self,make,model,year,color):\n",
    "\n",
    "        self.make = make\n",
    "        self.model=model\n",
    "        self.year = year\n",
    "        self.color = color\n",
    "\n",
    "    def drive(self):\n",
    "        print('This car is driving')\n",
    "    \n",
    "    def stop(self):\n",
    "        print('This car is stopped')\n",
    "    \n",
    "    ## defining an object and calling the properties and functions\n",
    "car_1 = Car('Chevy','Corvette',2021,'black')\n",
    "print(car_1.make)\n",
    "print(car_1.model)\n",
    "print(car_1.year)\n",
    "print(car_1.color)\n",
    "\n",
    "car_1.drive()\n",
    "car_1.stop()"
   ]
  }
 ],
 "metadata": {
  "kernelspec": {
   "display_name": "Python 3",
   "language": "python",
   "name": "python3"
  },
  "language_info": {
   "codemirror_mode": {
    "name": "ipython",
    "version": 3
   },
   "file_extension": ".py",
   "mimetype": "text/x-python",
   "name": "python",
   "nbconvert_exporter": "python",
   "pygments_lexer": "ipython3",
   "version": "3.11.2"
  },
  "orig_nbformat": 4
 },
 "nbformat": 4,
 "nbformat_minor": 2
}
