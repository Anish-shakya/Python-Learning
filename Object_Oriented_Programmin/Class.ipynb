{
 "cells": [
  {
   "attachments": {},
   "cell_type": "markdown",
   "metadata": {},
   "source": [
    "Class = act as a Blueprint"
   ]
  },
  {
   "cell_type": "code",
   "execution_count": null,
   "metadata": {},
   "outputs": [],
   "source": [
    "\n",
    "## defining the class\n",
    "class Car:\n",
    "\n",
    "    def __init__(self,make,model,year,color):\n",
    "\n",
    "        self.make = make\n",
    "        self.model=model\n",
    "        self.year = year\n",
    "        self.color = color\n",
    "\n",
    "    def drive(self):\n",
    "        print('This car is driving')\n",
    "    \n",
    "    def stop(self):\n",
    "        print('This car is stopped')\n",
    "    \n",
    "    ## defining an object and calling the properties and functions\n",
    "car_1 = Car('Chevy','Corvette',2021,'black')\n",
    "print(car_1.make)\n",
    "print(car_1.model)\n",
    "print(car_1.year)\n",
    "print(car_1.color)\n",
    "\n",
    "car_1.drive()\n",
    "car_1.stop()"
   ]
  },
  {
   "cell_type": "code",
   "execution_count": 11,
   "metadata": {},
   "outputs": [
    {
     "name": "stdout",
     "output_type": "stream",
     "text": [
      "hello Anish\n",
      "Name : Anish\n",
      "age : 21\n",
      "gender : Male\n",
      "address : Patan\n",
      "\n",
      "hello Sanish\n",
      "Name : Sanish\n",
      "age : 20\n",
      "gender : Male\n",
      "address : Kathmandu\n",
      "\n"
     ]
    }
   ],
   "source": [
    "class Student:\n",
    "    \n",
    "    def __init__(self,name,age,gender,address):\n",
    "        self.name = name\n",
    "        self.age=age\n",
    "        self.gender = gender\n",
    "        self.address= address\n",
    "    \n",
    "    def SayHello(self):\n",
    "        print(f'hello {self.name}')\n",
    "    \n",
    "    def GetInfo(self):\n",
    "        print(f'Name : {self.name}\\nage : {self.age}\\ngender : {self.gender}\\naddress : {self.address}')\n",
    "        print()\n",
    "\n",
    "\n",
    "\n",
    "student1 = Student('Anish',21,'Male','Patan')\n",
    "student2 = Student('Sanish',20,'Male','Kathmandu')\n",
    "\n",
    "student1.SayHello()\n",
    "student1.GetInfo()\n",
    "\n",
    "student2.SayHello()\n",
    "student2.GetInfo()"
   ]
  }
 ],
 "metadata": {
  "kernelspec": {
   "display_name": "Python 3",
   "language": "python",
   "name": "python3"
  },
  "language_info": {
   "codemirror_mode": {
    "name": "ipython",
    "version": 3
   },
   "file_extension": ".py",
   "mimetype": "text/x-python",
   "name": "python",
   "nbconvert_exporter": "python",
   "pygments_lexer": "ipython3",
   "version": "3.11.2"
  },
  "orig_nbformat": 4
 },
 "nbformat": 4,
 "nbformat_minor": 2
}
