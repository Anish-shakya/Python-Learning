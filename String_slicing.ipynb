{
 "cells": [
  {
   "attachments": {},
   "cell_type": "markdown",
   "metadata": {},
   "source": [
    "String Slicing creates a substring by extracting elements from another string"
   ]
  },
  {
   "cell_type": "code",
   "execution_count": 50,
   "metadata": {},
   "outputs": [
    {
     "name": "stdout",
     "output_type": "stream",
     "text": [
      "Anish\n",
      "Shakya\n",
      "AihSay\n",
      "aykahS hsinA\n"
     ]
    }
   ],
   "source": [
    "name = 'Anish Shakya'\n",
    "\n",
    "first_name = name[0:5:1] ##starting(inclusive):Ending(exclusive):Step\n",
    "first_name = name[:5:1]\n",
    "\n",
    "LastName = name[6:]\n",
    "\n",
    "FunkyName = name[::2]\n",
    "\n",
    "ReversedName = name[::-1]\n",
    "print(first_name)\n",
    "print(LastName)\n",
    "print(FunkyName)\n",
    "print(ReversedName)"
   ]
  }
 ],
 "metadata": {
  "kernelspec": {
   "display_name": "Python 3",
   "language": "python",
   "name": "python3"
  },
  "language_info": {
   "codemirror_mode": {
    "name": "ipython",
    "version": 3
   },
   "file_extension": ".py",
   "mimetype": "text/x-python",
   "name": "python",
   "nbconvert_exporter": "python",
   "pygments_lexer": "ipython3",
   "version": "3.11.2"
  },
  "orig_nbformat": 4
 },
 "nbformat": 4,
 "nbformat_minor": 2
}
