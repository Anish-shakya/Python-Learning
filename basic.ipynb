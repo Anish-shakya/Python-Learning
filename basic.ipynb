{
 "cells": [
  {
   "attachments": {},
   "cell_type": "markdown",
   "metadata": {},
   "source": [
    "My First Note Book"
   ]
  },
  {
   "cell_type": "code",
   "execution_count": null,
   "metadata": {},
   "outputs": [],
   "source": [
    "print(\"I love Pizza\") \n",
    "print(\"It's really Good\")"
   ]
  },
  {
   "attachments": {},
   "cell_type": "markdown",
   "metadata": {},
   "source": [
    "Variables in python\n",
    "String"
   ]
  },
  {
   "cell_type": "code",
   "execution_count": null,
   "metadata": {},
   "outputs": [],
   "source": [
    "first_name = \"Anish\"\n",
    "last_name =\"Shakya\"\n",
    "full_name =first_name+\" \" + last_name\n",
    "print(full_name)"
   ]
  },
  {
   "attachments": {},
   "cell_type": "markdown",
   "metadata": {},
   "source": [
    "Data types"
   ]
  },
  {
   "cell_type": "code",
   "execution_count": null,
   "metadata": {},
   "outputs": [],
   "source": [
    "age = 21 ##interger data type\n",
    "print(type(age))\n",
    "age += 1\n",
    "print(age)\n",
    "print(\"your age is :\"+str(age))\n",
    "print(f\"your age is {age}\")\n",
    "\n",
    "marks= 50.5 ##floata data type\n",
    "print(type(marks))\n",
    "print(f'your height is {marks}')\n",
    "\n",
    "value = True\n",
    "print(type(value))\n",
    "print(value)"
   ]
  },
  {
   "attachments": {},
   "cell_type": "markdown",
   "metadata": {},
   "source": [
    "Multiple Assignment In Python"
   ]
  },
  {
   "cell_type": "code",
   "execution_count": null,
   "metadata": {},
   "outputs": [],
   "source": [
    "name,age,attrative = 'Anish',21,True\n",
    "print(name)\n",
    "print(age)\n",
    "print(attrative)"
   ]
  }
 ],
 "metadata": {
  "kernelspec": {
   "display_name": "Python 3",
   "language": "python",
   "name": "python3"
  },
  "language_info": {
   "codemirror_mode": {
    "name": "ipython",
    "version": 3
   },
   "file_extension": ".py",
   "mimetype": "text/x-python",
   "name": "python",
   "nbconvert_exporter": "python",
   "pygments_lexer": "ipython3",
   "version": "3.11.2"
  },
  "orig_nbformat": 4
 },
 "nbformat": 4,
 "nbformat_minor": 2
}
