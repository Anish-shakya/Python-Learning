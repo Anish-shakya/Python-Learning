{
 "cells": [
  {
   "attachments": {},
   "cell_type": "markdown",
   "metadata": {},
   "source": [
    "Index Operator []  = gives access to a sequence's element (str,list,tuples)"
   ]
  },
  {
   "cell_type": "code",
   "execution_count": 8,
   "metadata": {},
   "outputs": [
    {
     "name": "stdout",
     "output_type": "stream",
     "text": [
      "anish shakya\n",
      "ANISH\n",
      "shakya\n",
      "A\n"
     ]
    }
   ],
   "source": [
    "name = 'Anish Shakya'\n",
    "\n",
    "if(name[0].isupper()):\n",
    "    name = name.lower()\n",
    "\n",
    "print(name)\n",
    "\n",
    "\n",
    "FirstName = name[:5].upper()\n",
    "LastName = name[6:].lower()\n",
    "\n",
    "LastCharacher = name[-1].upper()\n",
    "\n",
    "print(FirstName)\n",
    "print(LastName)\n",
    "print(LastCharacher)"
   ]
  }
 ],
 "metadata": {
  "kernelspec": {
   "display_name": "Python 3",
   "language": "python",
   "name": "python3"
  },
  "language_info": {
   "codemirror_mode": {
    "name": "ipython",
    "version": 3
   },
   "file_extension": ".py",
   "mimetype": "text/x-python",
   "name": "python",
   "nbconvert_exporter": "python",
   "pygments_lexer": "ipython3",
   "version": "3.11.2"
  },
  "orig_nbformat": 4
 },
 "nbformat": 4,
 "nbformat_minor": 2
}
