{
 "cells": [
  {
   "cell_type": "markdown",
   "metadata": {},
   "source": [
    "## List"
   ]
  },
  {
   "cell_type": "code",
   "execution_count": 1,
   "metadata": {},
   "outputs": [
    {
     "name": "stdout",
     "output_type": "stream",
     "text": [
      "<class 'list'>\n",
      "Orange\n",
      "['Mango', 'Guava', 'Orange', 'Apple']\n",
      "['Mango', 'Guava', 'Orange']\n",
      "Orange\n",
      "['Mango', 'Guava', 'Watermelon']\n",
      "[0, 1, 2, 3, 4, 5, 6, 7, 8, 9]\n",
      "[9, 8, 7, 6, 5, 4, 3, 2, 1, 0]\n"
     ]
    }
   ],
   "source": [
    "#List \n",
    "fruits = ['Mango','Guava','Orange']\n",
    "print(type(fruits))\n",
    "print(fruits[2])\n",
    "fruits.append('Apple')\n",
    "print(fruits)\n",
    "fruits.remove('Apple')\n",
    "print(fruits)\n",
    "print(fruits.pop())\n",
    "fruits.insert(3,'Watermelon')\n",
    "print(fruits)\n",
    "\n",
    "number = [1,2,3,5,4,7,6,9,8,0]\n",
    "number.sort()\n",
    "print(number)\n",
    "number.reverse()\n",
    "print(number)"
   ]
  },
  {
   "cell_type": "markdown",
   "metadata": {},
   "source": []
  },
  {
   "cell_type": "markdown",
   "metadata": {},
   "source": [
    "## Tuples"
   ]
  },
  {
   "cell_type": "code",
   "execution_count": null,
   "metadata": {},
   "outputs": [
    {
     "name": "stdout",
     "output_type": "stream",
     "text": [
      "<class 'tuple'>\n"
     ]
    },
    {
     "data": {
      "text/plain": [
       "('Football', 'Basketball', 'Volleyball')"
      ]
     },
     "execution_count": 2,
     "metadata": {},
     "output_type": "execute_result"
    }
   ],
   "source": [
    "#Tuples is the immutable data type in python \n",
    "sports = ('Football','Basketball','Volleyball')\n",
    "print(type(sports))\n",
    "\n",
    "## Tuples are immutable means we cannot change items in typles\n",
    "sports\n"
   ]
  },
  {
   "cell_type": "code",
   "execution_count": 3,
   "metadata": {},
   "outputs": [
    {
     "name": "stdout",
     "output_type": "stream",
     "text": [
      "5\n",
      "40\n",
      "10\n",
      "120\n",
      "[10, 20, 20, 30, 40]\n",
      "2\n",
      "2\n"
     ]
    }
   ],
   "source": [
    "t = (10, 20, 30, 20, 40)\n",
    "\n",
    "print(len(t))        # 5\n",
    "print(max(t))        # 40\n",
    "print(min(t))        # 10\n",
    "print(sum(t))        # 120\n",
    "print(sorted(t))     # [10, 20, 20, 30, 40]\n",
    "print(t.count(20))   # 2\n",
    "print(t.index(30))   # 2\n"
   ]
  },
  {
   "cell_type": "code",
   "execution_count": null,
   "metadata": {},
   "outputs": [],
   "source": []
  }
 ],
 "metadata": {
  "kernelspec": {
   "display_name": "mylearnings",
   "language": "python",
   "name": "python3"
  },
  "language_info": {
   "codemirror_mode": {
    "name": "ipython",
    "version": 3
   },
   "file_extension": ".py",
   "mimetype": "text/x-python",
   "name": "python",
   "nbconvert_exporter": "python",
   "pygments_lexer": "ipython3",
   "version": "3.13.2"
  }
 },
 "nbformat": 4,
 "nbformat_minor": 2
}
