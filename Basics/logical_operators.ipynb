{
 "cells": [
  {
   "cell_type": "code",
   "execution_count": 1,
   "id": "01fcaddf",
   "metadata": {},
   "outputs": [
    {
     "name": "stdout",
     "output_type": "stream",
     "text": [
      "Outdoor event is still scheduled\n"
     ]
    }
   ],
   "source": [
    "temp = 25\n",
    "is_raining = False\n",
    "\n",
    "if temp>35 or temp < 0 or is_raining:\n",
    "    print('Outdoor event is cancelled')\n",
    "else:\n",
    "    print('Outdoor event is still scheduled')"
   ]
  }
 ],
 "metadata": {
  "kernelspec": {
   "display_name": "mylearnings",
   "language": "python",
   "name": "python3"
  },
  "language_info": {
   "codemirror_mode": {
    "name": "ipython",
    "version": 3
   },
   "file_extension": ".py",
   "mimetype": "text/x-python",
   "name": "python",
   "nbconvert_exporter": "python",
   "pygments_lexer": "ipython3",
   "version": "3.13.2"
  }
 },
 "nbformat": 4,
 "nbformat_minor": 5
}
