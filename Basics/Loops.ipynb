{
 "cells": [
  {
   "cell_type": "markdown",
   "metadata": {},
   "source": [
    "## Loops\n"
   ]
  },
  {
   "cell_type": "code",
   "execution_count": 1,
   "metadata": {},
   "outputs": [],
   "source": [
    "fruits = ['Mango','Guava','Orange']\n"
   ]
  },
  {
   "cell_type": "code",
   "execution_count": 2,
   "metadata": {},
   "outputs": [
    {
     "name": "stdout",
     "output_type": "stream",
     "text": [
      "0\n",
      "1\n",
      "2\n",
      "3\n",
      "4\n",
      "5\n",
      "6\n",
      "7\n",
      "8\n",
      "9\n",
      "Mango\n",
      "Guava\n",
      "Orange\n",
      "count:1\n",
      "count:2\n",
      "count:3\n",
      "count:4\n",
      "count:5\n",
      "count:6\n",
      "count:7\n",
      "count:8\n",
      "count:9\n",
      "count:10\n"
     ]
    }
   ],
   "source": [
    "## loops \n",
    "\n",
    "i = 10\n",
    "\n",
    "for data in range(i):\n",
    "    print(data)\n",
    "    \n",
    "for fruit in fruits:\n",
    "    print(fruit)\n",
    "    \n",
    "## while loops\n",
    "i = 1\n",
    "\n",
    "while i <=10:\n",
    "    print(f'count:{i}')\n",
    "    i +=1    \n"
   ]
  },
  {
   "cell_type": "code",
   "execution_count": 3,
   "metadata": {},
   "outputs": [
    {
     "name": "stdout",
     "output_type": "stream",
     "text": [
      "*****\n",
      "****\n",
      "***\n",
      "**\n",
      "*\n"
     ]
    }
   ],
   "source": [
    "## Printing Patterns to practice loops\n",
    "\n",
    "i=5\n",
    "j=5\n",
    "\n",
    "for row in range(i):\n",
    "    for column in range(j):\n",
    "        print('*'*j)\n",
    "        j=j-1\n"
   ]
  },
  {
   "cell_type": "code",
   "execution_count": 4,
   "metadata": {},
   "outputs": [
    {
     "name": "stdout",
     "output_type": "stream",
     "text": [
      "                   *\n",
      "                  ***\n",
      "                 *****\n",
      "                *******\n",
      "               *********\n",
      "              ***********\n",
      "             *************\n",
      "            ***************\n",
      "           *****************\n",
      "          *******************\n",
      "         *********************\n",
      "        ***********************\n",
      "       *************************\n",
      "      ***************************\n",
      "     *****************************\n",
      "    *******************************\n",
      "   *********************************\n",
      "  ***********************************\n",
      " *************************************\n",
      "***************************************\n"
     ]
    }
   ],
   "source": [
    "n=20\n",
    "for i in range(1,n+1):\n",
    "    print(' '*(n-i) + '*'*(2*i-1))"
   ]
  },
  {
   "cell_type": "markdown",
   "metadata": {},
   "source": [
    "### Loop Practice"
   ]
  },
  {
   "cell_type": "code",
   "execution_count": 7,
   "metadata": {},
   "outputs": [
    {
     "name": "stdout",
     "output_type": "stream",
     "text": [
      "Hello Anish\n",
      "Hello Sanish\n"
     ]
    }
   ],
   "source": [
    "l = ['Anish','Sanish','Manish']\n",
    "\n",
    "\n",
    "for name in l:\n",
    "    if name.startswith('S') | name.startswith('A'):\n",
    "        print(f'Hello {name}')    "
   ]
  },
  {
   "cell_type": "code",
   "execution_count": 13,
   "metadata": {},
   "outputs": [
    {
     "name": "stdout",
     "output_type": "stream",
     "text": [
      "Multiplication of 10\n",
      "10 x 1 = 10\n",
      "10 x 2 = 20\n",
      "10 x 3 = 30\n",
      "10 x 4 = 40\n",
      "10 x 5 = 50\n",
      "10 x 6 = 60\n",
      "10 x 7 = 70\n",
      "10 x 8 = 80\n",
      "10 x 9 = 90\n",
      "10 x 10 = 100\n"
     ]
    }
   ],
   "source": [
    "## multiplication table using while loop\n",
    "\n",
    "num = int(input('Enter the number for the multiplication:'))\n",
    "i = 1\n",
    "\n",
    "print(f'Multiplication of {num}')\n",
    "while i<=10:\n",
    "    print(f'{num} x {i} = {num * i}')\n",
    "    i+=1"
   ]
  },
  {
   "cell_type": "code",
   "execution_count": 24,
   "metadata": {},
   "outputs": [
    {
     "name": "stdout",
     "output_type": "stream",
     "text": [
      "10 is not a prime number.\n"
     ]
    }
   ],
   "source": [
    "### Checking for prime number\n",
    "\n",
    "n = int(input('Enter a number:'))\n",
    "\n",
    "for i in range(2,n):\n",
    "    if(n%i==0):\n",
    "        print(f'{n} is not a prime number.')\n",
    "        break;\n",
    "else :\n",
    "    print(f'{n} is a prime number.')"
   ]
  },
  {
   "cell_type": "code",
   "execution_count": 43,
   "metadata": {},
   "outputs": [
    {
     "name": "stdout",
     "output_type": "stream",
     "text": [
      "factorial is 1\n"
     ]
    }
   ],
   "source": [
    "## norial of the given number using for loop\n",
    "\n",
    "n = int(input('Enter the number:'))\n",
    "fact =1\n",
    "for i in range(1,n+1):\n",
    "    if n == 0:\n",
    "        print(f'Factorial of {n} is 1')\n",
    "    else:\n",
    "         fact= fact*i\n",
    "print(f'factorial is {fact}')"
   ]
  },
  {
   "cell_type": "code",
   "execution_count": 50,
   "metadata": {},
   "outputs": [
    {
     "name": "stdout",
     "output_type": "stream",
     "text": [
      "    *\n",
      "   ***\n",
      "  *****\n",
      " *******\n",
      "*********\n"
     ]
    },
    {
     "data": {
      "text/plain": [
       "'\\nIteration 1 \\nn = 5\\ni = 1\\n\\nprints 4 spaces by logic(n-i)(5-1=4) followed by 1 * by logic(2*i-1)(2*1-1=1)\\n\\nIteration 2\\nn=5\\ni=2\\n\\nprints 3 spaces by logic(n-i)(5-2=3) followed by 3 * by logic(2*i-1)(2*2-1=3)\\n\\nand so on\\n'"
      ]
     },
     "execution_count": 50,
     "metadata": {},
     "output_type": "execute_result"
    }
   ],
   "source": [
    "## Pattern printing\n",
    "\n",
    "n  = 5\n",
    "\n",
    "for i in range (1,n+1):\n",
    "    print(' '*(n-i)+'*'*(2*i-1))\n",
    "\n",
    "\"\"\"\n",
    "Iteration 1 \n",
    "n = 5\n",
    "i = 1\n",
    "\n",
    "prints 4 spaces by logic(n-i)(5-1=4) followed by 1 * by logic(2*i-1)(2*1-1=1)\n",
    "\n",
    "Iteration 2\n",
    "n=5\n",
    "i=2\n",
    "\n",
    "prints 3 spaces by logic(n-i)(5-2=3) followed by 3 * by logic(2*i-1)(2*2-1=3)\n",
    "\n",
    "and so on\n",
    "\"\"\""
   ]
  },
  {
   "cell_type": "code",
   "execution_count": 52,
   "metadata": {},
   "outputs": [
    {
     "name": "stdout",
     "output_type": "stream",
     "text": [
      "*\n",
      "**\n",
      "***\n",
      "****\n",
      "*****\n"
     ]
    }
   ],
   "source": [
    "n = 5\n",
    "\n",
    "for i in range(1,n+1):\n",
    "    print('*'*i)"
   ]
  },
  {
   "cell_type": "code",
   "execution_count": 54,
   "metadata": {},
   "outputs": [],
   "source": [
    "n=5\n",
    "\n",
    "for i in range(n,1):\n",
    "    print('*'*i)"
   ]
  },
  {
   "cell_type": "code",
   "execution_count": 12,
   "metadata": {},
   "outputs": [
    {
     "name": "stdout",
     "output_type": "stream",
     "text": [
      "*******\n",
      "*     *\n",
      "*     *\n",
      "*     *\n",
      "*     *\n",
      "*     *\n",
      "*******\n"
     ]
    }
   ],
   "source": [
    "n = int(input('Enter the number:'))\n",
    "\n",
    "for i in range(1,n+1):\n",
    "    if(i==1 or i==n):\n",
    "        print(\"*\"*n)\n",
    "    else:\n",
    "        print(\"*\"+\" \"*(n-2)+\"*\")\n"
   ]
  },
  {
   "cell_type": "code",
   "execution_count": null,
   "metadata": {},
   "outputs": [],
   "source": []
  }
 ],
 "metadata": {
  "kernelspec": {
   "display_name": "mylearnings",
   "language": "python",
   "name": "python3"
  },
  "language_info": {
   "codemirror_mode": {
    "name": "ipython",
    "version": 3
   },
   "file_extension": ".py",
   "mimetype": "text/x-python",
   "name": "python",
   "nbconvert_exporter": "python",
   "pygments_lexer": "ipython3",
   "version": "3.13.2"
  }
 },
 "nbformat": 4,
 "nbformat_minor": 2
}
