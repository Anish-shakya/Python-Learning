{
 "cells": [
  {
   "cell_type": "code",
   "execution_count": null,
   "metadata": {},
   "outputs": [],
   "source": [
    "print('hello World')"
   ]
  },
  {
   "cell_type": "code",
   "execution_count": null,
   "metadata": {},
   "outputs": [],
   "source": [
    "# This is a single-line comment\n",
    "\"\"\"\n",
    "This is a\n",
    "multi-line comment\n",
    "\"\"\""
   ]
  },
  {
   "cell_type": "code",
   "execution_count": null,
   "metadata": {},
   "outputs": [],
   "source": [
    "#Variables\n",
    "\n",
    "x = 10\n",
    "name ='Spooky'\n",
    "pi = 3.14\n",
    "\n",
    "print(x)\n",
    "print(name)\n",
    "print(pi)"
   ]
  },
  {
   "cell_type": "code",
   "execution_count": null,
   "metadata": {},
   "outputs": [],
   "source": [
    "x = 10\n",
    "y = 5\n",
    "print(x + y)  # Addition\n",
    "print(x - y)  # Subtraction\n",
    "print(x * y)  # Multiplication\n",
    "print(x / y)  # Division\n",
    "print(x // y)  # Floor division\n",
    "print(x % y)  # Modulus\n",
    "print(x ** y)  # Exponentiation"
   ]
  },
  {
   "cell_type": "markdown",
   "metadata": {},
   "source": [
    "## String"
   ]
  },
  {
   "cell_type": "code",
   "execution_count": null,
   "metadata": {},
   "outputs": [],
   "source": [
    "#String\n",
    "name = 'Spooky'\n",
    "nameshort =name[0:3] #strats from 0 and end till 3 (excluding 3) i.e 0 to 2\n",
    "print(nameshort)\n",
    "\n",
    "alphabet ='abcdefghijklmnopqrstuvwxyz'\n",
    "skip_alpha = alphabet[0::2]\n",
    "print(skip_alpha)\n",
    "skip_alpha = alphabet[0::3]\n",
    "print(skip_alpha)\n",
    "skip_alpha = alphabet[0::4]\n",
    "print(skip_alpha)\n",
    "skip_alpha = alphabet[0::5]\n",
    "print(skip_alpha)\n",
    "skip_alpha = alphabet[0::6]\n",
    "print(skip_alpha)"
   ]
  },
  {
   "cell_type": "code",
   "execution_count": null,
   "metadata": {},
   "outputs": [],
   "source": [
    "## String Functions\n",
    "print(len(alphabet))\n",
    "print(alphabet.endswith(\"z\"))\n",
    "print(alphabet.startswith(\"a\")) ## this function is case sensitive\n",
    "\n",
    "print(alphabet.capitalize())\n",
    "print(alphabet.upper())\n",
    "\n",
    "print(alphabet.find('f')) ## find the index of that character"
   ]
  },
  {
   "cell_type": "markdown",
   "metadata": {},
   "source": [
    "## List"
   ]
  },
  {
   "cell_type": "code",
   "execution_count": null,
   "metadata": {},
   "outputs": [],
   "source": [
    "#List \n",
    "fruits = ['Mango','Guava','Orange']\n",
    "print(type(fruits))\n",
    "print(fruits[2])\n",
    "fruits.append('Apple')\n",
    "print(fruits)\n",
    "fruits.remove('Apple')\n",
    "print(fruits)\n",
    "print(fruits.pop())\n",
    "fruits.insert(3,'Watermelon')\n",
    "print(fruits)\n",
    "\n",
    "number = [1,2,3,5,4,7,6,9,8,0]\n",
    "number.sort()\n",
    "print(number)\n",
    "number.reverse()\n",
    "print(number)"
   ]
  },
  {
   "cell_type": "code",
   "execution_count": null,
   "metadata": {},
   "outputs": [],
   "source": [
    "#Tuples\n",
    "sports = ('Football','Basketball','Volleyball')\n",
    "print(type(sports))\n",
    "\n",
    "## Tuples are immutable means we cannot change items in typles\n",
    "sports\n"
   ]
  },
  {
   "cell_type": "markdown",
   "metadata": {},
   "source": [
    "## Dictionary"
   ]
  },
  {
   "cell_type": "code",
   "execution_count": null,
   "metadata": {},
   "outputs": [],
   "source": [
    "#Dictionary \n",
    "\n",
    "employee_info = {\n",
    "    'Name' : 'Anish Shakya',\n",
    "    'Age' : 20,\n",
    "    'Location' : 'Lalitpur,Patan',\n",
    "    'Profession' :'Data Analyst',\n",
    "    'Work Experience' : '2 Years',\n",
    "    'Education' : 'Graduated',\n",
    "    'Course' : 'Bachelors in Computer Application'\n",
    "}\n",
    "\n",
    "print(employee_info['Name'])\n",
    "employee_info['Age'] = 22\n",
    "print(employee_info)\n",
    "\n",
    "## Displaying all value of dictionary via a loop\n",
    "\n",
    "for key,values in employee_info.items():\n",
    "    print(f'{key} : {values}')\n",
    "\n",
    "print('----------------------------------------')    \n",
    "for value in employee_info.values():\n",
    "    print(f'{value}')\n",
    "print('----------------------------------------')    \n",
    "for key in employee_info.keys():\n",
    "    print(f'{key}')\n",
    "    "
   ]
  },
  {
   "cell_type": "code",
   "execution_count": null,
   "metadata": {},
   "outputs": [],
   "source": [
    "employee_infos={\n",
    "    'Employee_1' : {\n",
    "        'Name' : 'Anish Shakya',\n",
    "        'Age' : 20,\n",
    "        'Location' : 'Lalitpur,Patan',\n",
    "        'Profession' :'Data Analyst',\n",
    "        'Work Experience' : '2 Years',\n",
    "        'Education' : 'Graduated',\n",
    "        'Course' : 'Bachelors in Computer Application'\n",
    "    },\n",
    "    'Employee_2' : {\n",
    "        'Name' : 'Anish Shakya',\n",
    "        'Age' : 21,\n",
    "        'Location' : 'Kathmandu,Nepal',\n",
    "        'Profession' :'Data Engineer',\n",
    "        'Work Experience' : '3 Years',\n",
    "        'Education' : 'Graduated',\n",
    "        'Course' : 'Bachelors in Information Technology'\n",
    "}}\n",
    "\n",
    "### Dictionary within dictionary \n",
    "for key,value in employee_infos.items():\n",
    "    print(f'----------------{key}--------------')\n",
    "    for keys,values in value.items():\n",
    "        print(f'{keys}:{values}')\n",
    "\n",
    "print('--------------------------------------')\n",
    "print(employee_infos.get(\"Employee_1\"))"
   ]
  },
  {
   "cell_type": "code",
   "execution_count": 12,
   "metadata": {},
   "outputs": [
    {
     "name": "stdout",
     "output_type": "stream",
     "text": [
      "Meaning of Orange is Suntala\n"
     ]
    }
   ],
   "source": [
    "words = {\n",
    "    'Apple':'Sayau',\n",
    "    'Orange':'Suntala',\n",
    "    'Grapes':'Angur',   \n",
    "    \n",
    "}\n",
    "\n",
    "word = input('Enter the word you want the meaning of: ')\n",
    "print(f'Meaning of {word} is {words[word]}')"
   ]
  },
  {
   "cell_type": "markdown",
   "metadata": {},
   "source": [
    "## Loops"
   ]
  },
  {
   "cell_type": "code",
   "execution_count": null,
   "metadata": {},
   "outputs": [],
   "source": [
    "## loops \n",
    "\n",
    "i = 10\n",
    "\n",
    "for data in range(i):\n",
    "    print(data)\n",
    "    \n",
    "for fruit in fruits:\n",
    "    print(fruit)\n",
    "    \n",
    "## while loops\n",
    "i = 1\n",
    "\n",
    "while i <=10:\n",
    "    print(f'count:{i}')\n",
    "    i +=1    \n"
   ]
  },
  {
   "cell_type": "code",
   "execution_count": null,
   "metadata": {},
   "outputs": [],
   "source": [
    "## Printing Patterns to practice loops\n",
    "\n",
    "i=5\n",
    "j=5\n",
    "\n",
    "for row in range(i):\n",
    "    for column in range(j):\n",
    "        print('*'*j)\n",
    "        j=j-1\n"
   ]
  },
  {
   "cell_type": "code",
   "execution_count": null,
   "metadata": {},
   "outputs": [],
   "source": [
    "n=20\n",
    "for i in range(1,n+1):\n",
    "    print(' '*(n-i) + '*'*(2*i-1))"
   ]
  },
  {
   "cell_type": "markdown",
   "metadata": {},
   "source": [
    "## SET \n"
   ]
  },
  {
   "cell_type": "code",
   "execution_count": null,
   "metadata": {},
   "outputs": [],
   "source": [
    "### SET\n",
    "\n",
    "s = {1,2,3,4,5,5,5,6,6,7,7,4,3,2,34,6}\n",
    "## There is no repetation of elements in set\n",
    "e = set()\n",
    "print(type(e))\n",
    "print(s)"
   ]
  },
  {
   "cell_type": "code",
   "execution_count": null,
   "metadata": {},
   "outputs": [
    {
     "name": "stdout",
     "output_type": "stream",
     "text": [
      "{1, 2, 3, 4, 5, 6, 99, 67, 34, 66, 432, 756, 87}\n",
      "{2, 4, 5, 6}\n"
     ]
    }
   ],
   "source": [
    "set1 = {2,2,4,5,6,3,2,6,87,99,67}\n",
    "set2 = {1,2,34,5,66,756,432,4,5,6}\n",
    "\n",
    "set_union = set1.union(set2) ## takes all unique elements present in set \n",
    "set_intersection = set1.intersection(set2) ## takes common elements in set\n",
    "\n",
    "print(set_union)\n",
    "print(set_intersection)"
   ]
  }
 ],
 "metadata": {
  "kernelspec": {
   "display_name": "mylearnings",
   "language": "python",
   "name": "python3"
  },
  "language_info": {
   "codemirror_mode": {
    "name": "ipython",
    "version": 3
   },
   "file_extension": ".py",
   "mimetype": "text/x-python",
   "name": "python",
   "nbconvert_exporter": "python",
   "pygments_lexer": "ipython3",
   "version": "3.13.2"
  }
 },
 "nbformat": 4,
 "nbformat_minor": 2
}
