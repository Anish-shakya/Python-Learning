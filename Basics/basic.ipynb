{
 "cells": [
  {
   "cell_type": "code",
   "execution_count": 2,
   "metadata": {},
   "outputs": [
    {
     "name": "stdout",
     "output_type": "stream",
     "text": [
      "hello World\n"
     ]
    }
   ],
   "source": [
    "print('hello World')"
   ]
  },
  {
   "cell_type": "code",
   "execution_count": 3,
   "metadata": {},
   "outputs": [
    {
     "data": {
      "text/plain": [
       "'\\nThis is a\\nmulti-line comment\\n'"
      ]
     },
     "execution_count": 3,
     "metadata": {},
     "output_type": "execute_result"
    }
   ],
   "source": [
    "# This is a single-line comment\n",
    "\"\"\"\n",
    "This is a\n",
    "multi-line comment\n",
    "\"\"\""
   ]
  },
  {
   "cell_type": "code",
   "execution_count": 4,
   "metadata": {},
   "outputs": [
    {
     "name": "stdout",
     "output_type": "stream",
     "text": [
      "10\n",
      "Spooky\n",
      "3.14\n"
     ]
    }
   ],
   "source": [
    "#Variables\n",
    "\n",
    "x = 10\n",
    "name ='Spooky'\n",
    "pi = 3.14\n",
    "\n",
    "print(x)\n",
    "print(name)\n",
    "print(pi)"
   ]
  },
  {
   "cell_type": "code",
   "execution_count": 5,
   "metadata": {},
   "outputs": [
    {
     "name": "stdout",
     "output_type": "stream",
     "text": [
      "15\n",
      "5\n",
      "50\n",
      "2.0\n",
      "2\n",
      "0\n",
      "100000\n"
     ]
    }
   ],
   "source": [
    "x = 10\n",
    "y = 5\n",
    "print(x + y)  # Addition\n",
    "print(x - y)  # Subtraction\n",
    "print(x * y)  # Multiplication\n",
    "print(x / y)  # Division\n",
    "print(x // y)  # Floor division\n",
    "print(x % y)  # Modulus\n",
    "print(x ** y)  # Exponentiation"
   ]
  },
  {
   "cell_type": "code",
   "execution_count": 9,
   "metadata": {},
   "outputs": [
    {
     "name": "stdout",
     "output_type": "stream",
     "text": [
      "<class 'list'>\n",
      "Orange\n",
      "['Mango', 'Guava', 'Orange', 'Apple']\n",
      "['Mango', 'Guava', 'Orange']\n",
      "Orange\n"
     ]
    }
   ],
   "source": [
    "#List \n",
    "fruits = ['Mango','Guava','Orange']\n",
    "print(type(fruits))\n",
    "print(fruits[2])\n",
    "fruits.append('Apple')\n",
    "print(fruits)\n",
    "fruits.remove('Apple')\n",
    "print(fruits)\n",
    "print(fruits.pop())\n"
   ]
  },
  {
   "cell_type": "code",
   "execution_count": null,
   "metadata": {},
   "outputs": [
    {
     "name": "stdout",
     "output_type": "stream",
     "text": [
      "<class 'tuple'>\n"
     ]
    }
   ],
   "source": [
    "#Tuples\n",
    "sports = ('Football','Basketball','Volleyball')\n",
    "print(type(sports))\n",
    "\n",
    "## Tuples are immutable means we cannot change items in typles\n",
    "sports\n"
   ]
  },
  {
   "cell_type": "code",
   "execution_count": 19,
   "metadata": {},
   "outputs": [
    {
     "name": "stdout",
     "output_type": "stream",
     "text": [
      "Anish Shakya\n",
      "{'Name': 'Anish Shakya', 'Age': 22, 'Location': 'Lalitpur,Patan', 'Profession': 'Data Analyst', 'Work Experience': '2 Years', 'Education': 'Graduated', 'Course': 'Bachelors in Computer Application'}\n",
      "Name : Anish Shakya\n",
      "Age : 22\n",
      "Location : Lalitpur,Patan\n",
      "Profession : Data Analyst\n",
      "Work Experience : 2 Years\n",
      "Education : Graduated\n",
      "Course : Bachelors in Computer Application\n",
      "----------------------------------------\n",
      "Anish Shakya\n",
      "22\n",
      "Lalitpur,Patan\n",
      "Data Analyst\n",
      "2 Years\n",
      "Graduated\n",
      "Bachelors in Computer Application\n",
      "----------------------------------------\n",
      "Name\n",
      "Age\n",
      "Location\n",
      "Profession\n",
      "Work Experience\n",
      "Education\n",
      "Course\n"
     ]
    }
   ],
   "source": [
    "#Dictionary \n",
    "\n",
    "employee_info = {\n",
    "    'Name' : 'Anish Shakya',\n",
    "    'Age' : 20,\n",
    "    'Location' : 'Lalitpur,Patan',\n",
    "    'Profession' :'Data Analyst',\n",
    "    'Work Experience' : '2 Years',\n",
    "    'Education' : 'Graduated',\n",
    "    'Course' : 'Bachelors in Computer Application'\n",
    "}\n",
    "\n",
    "print(employee_info['Name'])\n",
    "employee_info['Age'] = 22\n",
    "print(employee_info)\n",
    "\n",
    "## Displaying all value of dictionary via a loop\n",
    "\n",
    "for key,values in employee_info.items():\n",
    "    print(f'{key} : {values}')\n",
    "\n",
    "print('----------------------------------------')    \n",
    "for value in employee_info.values():\n",
    "    print(f'{value}')\n",
    "print('----------------------------------------')    \n",
    "for key in employee_info.keys():\n",
    "    print(f'{key}')\n",
    "    "
   ]
  }
 ],
 "metadata": {
  "kernelspec": {
   "display_name": "mylearnings",
   "language": "python",
   "name": "python3"
  },
  "language_info": {
   "codemirror_mode": {
    "name": "ipython",
    "version": 3
   },
   "file_extension": ".py",
   "mimetype": "text/x-python",
   "name": "python",
   "nbconvert_exporter": "python",
   "pygments_lexer": "ipython3",
   "version": "3.13.2"
  }
 },
 "nbformat": 4,
 "nbformat_minor": 2
}
