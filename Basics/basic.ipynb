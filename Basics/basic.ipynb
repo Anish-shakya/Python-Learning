{
 "cells": [
  {
   "cell_type": "code",
   "execution_count": 2,
   "metadata": {},
   "outputs": [
    {
     "name": "stdout",
     "output_type": "stream",
     "text": [
      "hello World\n"
     ]
    }
   ],
   "source": [
    "print('hello World')"
   ]
  },
  {
   "cell_type": "code",
   "execution_count": 3,
   "metadata": {},
   "outputs": [
    {
     "data": {
      "text/plain": [
       "'\\nThis is a\\nmulti-line comment\\n'"
      ]
     },
     "execution_count": 3,
     "metadata": {},
     "output_type": "execute_result"
    }
   ],
   "source": [
    "# This is a single-line comment\n",
    "\"\"\"\n",
    "This is a\n",
    "multi-line comment\n",
    "\"\"\""
   ]
  },
  {
   "cell_type": "code",
   "execution_count": 4,
   "metadata": {},
   "outputs": [
    {
     "name": "stdout",
     "output_type": "stream",
     "text": [
      "10\n",
      "Spooky\n",
      "3.14\n"
     ]
    }
   ],
   "source": [
    "#Variables\n",
    "\n",
    "x = 10\n",
    "name ='Spooky'\n",
    "pi = 3.14\n",
    "\n",
    "print(x)\n",
    "print(name)\n",
    "print(pi)"
   ]
  },
  {
   "cell_type": "code",
   "execution_count": 5,
   "metadata": {},
   "outputs": [
    {
     "name": "stdout",
     "output_type": "stream",
     "text": [
      "15\n",
      "5\n",
      "50\n",
      "2.0\n",
      "2\n",
      "0\n",
      "100000\n"
     ]
    }
   ],
   "source": [
    "x = 10\n",
    "y = 5\n",
    "print(x + y)  # Addition\n",
    "print(x - y)  # Subtraction\n",
    "print(x * y)  # Multiplication\n",
    "print(x / y)  # Division\n",
    "print(x // y)  # Floor division\n",
    "print(x % y)  # Modulus\n",
    "print(x ** y)  # Exponentiation"
   ]
  },
  {
   "cell_type": "code",
   "execution_count": 60,
   "metadata": {},
   "outputs": [
    {
     "name": "stdout",
     "output_type": "stream",
     "text": [
      "Spo\n",
      "acegikmoqsuwy\n",
      "adgjmpsvy\n",
      "aeimquy\n",
      "afkpuz\n",
      "agmsy\n"
     ]
    }
   ],
   "source": [
    "#String\n",
    "name = 'Spooky'\n",
    "nameshort =name[0:3] #strats from 0 and end till 3 (excluding 3) i.e 0 to 2\n",
    "print(nameshort)\n",
    "\n",
    "alphabet ='abcdefghijklmnopqrstuvwxyz'\n",
    "skip_alpha = alphabet[0::2]\n",
    "print(skip_alpha)\n",
    "skip_alpha = alphabet[0::3]\n",
    "print(skip_alpha)\n",
    "skip_alpha = alphabet[0::4]\n",
    "print(skip_alpha)\n",
    "skip_alpha = alphabet[0::5]\n",
    "print(skip_alpha)\n",
    "skip_alpha = alphabet[0::6]\n",
    "print(skip_alpha)"
   ]
  },
  {
   "cell_type": "code",
   "execution_count": 72,
   "metadata": {},
   "outputs": [
    {
     "name": "stdout",
     "output_type": "stream",
     "text": [
      "26\n",
      "True\n",
      "True\n",
      "Abcdefghijklmnopqrstuvwxyz\n",
      "ABCDEFGHIJKLMNOPQRSTUVWXYZ\n",
      "5\n"
     ]
    }
   ],
   "source": [
    "## String Functions\n",
    "print(len(alphabet))\n",
    "print(alphabet.endswith(\"z\"))\n",
    "print(alphabet.startswith(\"a\")) ## this function is case sensitive\n",
    "\n",
    "print(alphabet.capitalize())\n",
    "print(alphabet.upper())\n",
    "\n",
    "print(alphabet.find('f')) ## find the index of that character"
   ]
  },
  {
   "cell_type": "code",
   "execution_count": 81,
   "metadata": {},
   "outputs": [
    {
     "name": "stdout",
     "output_type": "stream",
     "text": [
      "<class 'list'>\n",
      "Orange\n",
      "['Mango', 'Guava', 'Orange', 'Apple']\n",
      "['Mango', 'Guava', 'Orange']\n",
      "Orange\n",
      "['Mango', 'Guava', 'Watermelon']\n",
      "[0, 1, 2, 3, 4, 5, 6, 7, 8, 9]\n",
      "[9, 8, 7, 6, 5, 4, 3, 2, 1, 0]\n"
     ]
    }
   ],
   "source": [
    "#List \n",
    "fruits = ['Mango','Guava','Orange']\n",
    "print(type(fruits))\n",
    "print(fruits[2])\n",
    "fruits.append('Apple')\n",
    "print(fruits)\n",
    "fruits.remove('Apple')\n",
    "print(fruits)\n",
    "print(fruits.pop())\n",
    "fruits.insert(3,'Watermelon')\n",
    "print(fruits)\n",
    "\n",
    "number = [1,2,3,5,4,7,6,9,8,0]\n",
    "number.sort()\n",
    "print(number)\n",
    "number.reverse()\n",
    "print(number)"
   ]
  },
  {
   "cell_type": "code",
   "execution_count": 8,
   "metadata": {},
   "outputs": [
    {
     "name": "stdout",
     "output_type": "stream",
     "text": [
      "<class 'tuple'>\n"
     ]
    }
   ],
   "source": [
    "#Tuples\n",
    "sports = ('Football','Basketball','Volleyball')\n",
    "print(type(sports))\n",
    "\n",
    "## Tuples are immutable means we cannot change items in typles\n",
    "sports\n"
   ]
  },
  {
   "cell_type": "code",
   "execution_count": 19,
   "metadata": {},
   "outputs": [
    {
     "name": "stdout",
     "output_type": "stream",
     "text": [
      "Anish Shakya\n",
      "{'Name': 'Anish Shakya', 'Age': 22, 'Location': 'Lalitpur,Patan', 'Profession': 'Data Analyst', 'Work Experience': '2 Years', 'Education': 'Graduated', 'Course': 'Bachelors in Computer Application'}\n",
      "Name : Anish Shakya\n",
      "Age : 22\n",
      "Location : Lalitpur,Patan\n",
      "Profession : Data Analyst\n",
      "Work Experience : 2 Years\n",
      "Education : Graduated\n",
      "Course : Bachelors in Computer Application\n",
      "----------------------------------------\n",
      "Anish Shakya\n",
      "22\n",
      "Lalitpur,Patan\n",
      "Data Analyst\n",
      "2 Years\n",
      "Graduated\n",
      "Bachelors in Computer Application\n",
      "----------------------------------------\n",
      "Name\n",
      "Age\n",
      "Location\n",
      "Profession\n",
      "Work Experience\n",
      "Education\n",
      "Course\n"
     ]
    }
   ],
   "source": [
    "#Dictionary \n",
    "\n",
    "employee_info = {\n",
    "    'Name' : 'Anish Shakya',\n",
    "    'Age' : 20,\n",
    "    'Location' : 'Lalitpur,Patan',\n",
    "    'Profession' :'Data Analyst',\n",
    "    'Work Experience' : '2 Years',\n",
    "    'Education' : 'Graduated',\n",
    "    'Course' : 'Bachelors in Computer Application'\n",
    "}\n",
    "\n",
    "print(employee_info['Name'])\n",
    "employee_info['Age'] = 22\n",
    "print(employee_info)\n",
    "\n",
    "## Displaying all value of dictionary via a loop\n",
    "\n",
    "for key,values in employee_info.items():\n",
    "    print(f'{key} : {values}')\n",
    "\n",
    "print('----------------------------------------')    \n",
    "for value in employee_info.values():\n",
    "    print(f'{value}')\n",
    "print('----------------------------------------')    \n",
    "for key in employee_info.keys():\n",
    "    print(f'{key}')\n",
    "    "
   ]
  },
  {
   "cell_type": "code",
   "execution_count": 23,
   "metadata": {},
   "outputs": [
    {
     "name": "stdout",
     "output_type": "stream",
     "text": [
      "0\n",
      "1\n",
      "2\n",
      "3\n",
      "4\n",
      "5\n",
      "6\n",
      "7\n",
      "8\n",
      "9\n",
      "Mango\n",
      "Guava\n",
      "count:1\n",
      "count:2\n",
      "count:3\n",
      "count:4\n",
      "count:5\n",
      "count:6\n",
      "count:7\n",
      "count:8\n",
      "count:9\n",
      "count:10\n"
     ]
    }
   ],
   "source": [
    "## loops \n",
    "\n",
    "i = 10\n",
    "\n",
    "for data in range(i):\n",
    "    print(data)\n",
    "    \n",
    "for fruit in fruits:\n",
    "    print(fruit)\n",
    "    \n",
    "## while loops\n",
    "i = 1\n",
    "\n",
    "while i <=10:\n",
    "    print(f'count:{i}')\n",
    "    i +=1    \n"
   ]
  },
  {
   "cell_type": "code",
   "execution_count": 45,
   "metadata": {},
   "outputs": [
    {
     "name": "stdout",
     "output_type": "stream",
     "text": [
      "*****\n",
      "****\n",
      "***\n",
      "**\n",
      "*\n"
     ]
    }
   ],
   "source": [
    "## Printing Patterns to practice loops\n",
    "\n",
    "i=5\n",
    "j=5\n",
    "\n",
    "for row in range(i):\n",
    "    for column in range(j):\n",
    "        print('*'*j)\n",
    "        j=j-1\n"
   ]
  },
  {
   "cell_type": "code",
   "execution_count": 52,
   "metadata": {},
   "outputs": [
    {
     "name": "stdout",
     "output_type": "stream",
     "text": [
      "                   *\n",
      "                  ***\n",
      "                 *****\n",
      "                *******\n",
      "               *********\n",
      "              ***********\n",
      "             *************\n",
      "            ***************\n",
      "           *****************\n",
      "          *******************\n",
      "         *********************\n",
      "        ***********************\n",
      "       *************************\n",
      "      ***************************\n",
      "     *****************************\n",
      "    *******************************\n",
      "   *********************************\n",
      "  ***********************************\n",
      " *************************************\n",
      "***************************************\n"
     ]
    }
   ],
   "source": [
    "n=20\n",
    "for i in range(1,n+1):\n",
    "    print(' '*(n-i) + '*'*(2*i-1))"
   ]
  }
 ],
 "metadata": {
  "kernelspec": {
   "display_name": "mylearnings",
   "language": "python",
   "name": "python3"
  },
  "language_info": {
   "codemirror_mode": {
    "name": "ipython",
    "version": 3
   },
   "file_extension": ".py",
   "mimetype": "text/x-python",
   "name": "python",
   "nbconvert_exporter": "python",
   "pygments_lexer": "ipython3",
   "version": "3.13.2"
  }
 },
 "nbformat": 4,
 "nbformat_minor": 2
}
