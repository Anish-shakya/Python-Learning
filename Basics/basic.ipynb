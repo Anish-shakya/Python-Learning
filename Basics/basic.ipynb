{
 "cells": [
  {
   "cell_type": "code",
   "execution_count": null,
   "metadata": {},
   "outputs": [],
   "source": [
    "print('hello World')"
   ]
  },
  {
   "cell_type": "code",
   "execution_count": null,
   "metadata": {},
   "outputs": [],
   "source": [
    "# This is a single-line comment\n",
    "\"\"\"\n",
    "This is a\n",
    "multi-line comment\n",
    "\"\"\""
   ]
  },
  {
   "cell_type": "code",
   "execution_count": null,
   "metadata": {},
   "outputs": [],
   "source": [
    "#Variables\n",
    "\n",
    "x = 10\n",
    "name ='Spooky'\n",
    "pi = 3.14\n",
    "\n",
    "print(x)\n",
    "print(name)\n",
    "print(pi)"
   ]
  },
  {
   "cell_type": "code",
   "execution_count": null,
   "metadata": {},
   "outputs": [],
   "source": [
    "x = 10\n",
    "y = 5\n",
    "print(x + y)  # Addition\n",
    "print(x - y)  # Subtraction\n",
    "print(x * y)  # Multiplication\n",
    "print(x / y)  # Division\n",
    "print(x // y)  # Floor division\n",
    "print(x % y)  # Modulus\n",
    "print(x ** y)  # Exponentiation"
   ]
  },
  {
   "cell_type": "markdown",
   "metadata": {},
   "source": [
    "## String"
   ]
  },
  {
   "cell_type": "code",
   "execution_count": null,
   "metadata": {},
   "outputs": [],
   "source": [
    "#String\n",
    "name = 'Spooky'\n",
    "nameshort =name[0:3] #strats from 0 and end till 3 (excluding 3) i.e 0 to 2\n",
    "print(nameshort)\n",
    "\n",
    "alphabet ='abcdefghijklmnopqrstuvwxyz'\n",
    "skip_alpha = alphabet[0::2]\n",
    "print(skip_alpha)\n",
    "skip_alpha = alphabet[0::3]\n",
    "print(skip_alpha)\n",
    "skip_alpha = alphabet[0::4]\n",
    "print(skip_alpha)\n",
    "skip_alpha = alphabet[0::5]\n",
    "print(skip_alpha)\n",
    "skip_alpha = alphabet[0::6]\n",
    "print(skip_alpha)"
   ]
  },
  {
   "cell_type": "code",
   "execution_count": null,
   "metadata": {},
   "outputs": [],
   "source": [
    "## String Functions\n",
    "print(len(alphabet))\n",
    "print(alphabet.endswith(\"z\"))\n",
    "print(alphabet.startswith(\"a\")) ## this function is case sensitive\n",
    "\n",
    "print(alphabet.capitalize())\n",
    "print(alphabet.upper())\n",
    "\n",
    "print(alphabet.find('f')) ## find the index of that character"
   ]
  }
 ],
 "metadata": {
  "kernelspec": {
   "display_name": "mylearnings",
   "language": "python",
   "name": "python3"
  },
  "language_info": {
   "codemirror_mode": {
    "name": "ipython",
    "version": 3
   },
   "file_extension": ".py",
   "mimetype": "text/x-python",
   "name": "python",
   "nbconvert_exporter": "python",
   "pygments_lexer": "ipython3",
   "version": "3.13.2"
  }
 },
 "nbformat": 4,
 "nbformat_minor": 2
}
