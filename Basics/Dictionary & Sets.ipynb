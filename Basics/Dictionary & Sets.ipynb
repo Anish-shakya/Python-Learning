{
 "cells": [
  {
   "cell_type": "markdown",
   "metadata": {},
   "source": [
    "## Dictionary\n"
   ]
  },
  {
   "cell_type": "code",
   "execution_count": null,
   "metadata": {},
   "outputs": [],
   "source": [
    "\n",
    "employee_info = {\n",
    "    'Name' : 'Anish Shakya',\n",
    "    'Age' : 20,\n",
    "    'Location' : 'Lalitpur,Patan',\n",
    "    'Profession' :'Data Analyst',\n",
    "    'Work Experience' : '2 Years',\n",
    "    'Education' : 'Graduated',\n",
    "    'Course' : 'Bachelors in Computer Application'\n",
    "}\n",
    "\n",
    "print(employee_info['Name'])\n",
    "employee_info['Age'] = 22\n",
    "print(employee_info)\n",
    "\n",
    "## Displaying all value of dictionary via a loop\n",
    "\n",
    "for key,values in employee_info.items():\n",
    "    print(f'{key} : {values}')\n",
    "\n",
    "print('----------------------------------------')    \n",
    "for value in employee_info.values():\n",
    "    print(f'{value}')\n",
    "print('----------------------------------------')    \n",
    "for key in employee_info.keys():\n",
    "    print(f'{key}')\n",
    "    "
   ]
  },
  {
   "cell_type": "code",
   "execution_count": 2,
   "metadata": {},
   "outputs": [
    {
     "name": "stdout",
     "output_type": "stream",
     "text": [
      "----------------Employee_1--------------\n",
      "Name:Anish Shakya\n",
      "Age:20\n",
      "Location:Lalitpur,Patan\n",
      "Profession:Data Analyst\n",
      "Work Experience:2 Years\n",
      "Education:Graduated\n",
      "Course:Bachelors in Computer Application\n",
      "----------------Employee_2--------------\n",
      "Name:Anish Shakya\n",
      "Age:21\n",
      "Location:Kathmandu,Nepal\n",
      "Profession:Data Engineer\n",
      "Work Experience:3 Years\n",
      "Education:Graduated\n",
      "Course:Bachelors in Information Technology\n",
      "--------------------------------------\n",
      "{'Name': 'Anish Shakya', 'Age': 20, 'Location': 'Lalitpur,Patan', 'Profession': 'Data Analyst', 'Work Experience': '2 Years', 'Education': 'Graduated', 'Course': 'Bachelors in Computer Application'}\n"
     ]
    }
   ],
   "source": [
    "employee_infos={\n",
    "    'Employee_1' : {\n",
    "        'Name' : 'Anish Shakya',\n",
    "        'Age' : 20,\n",
    "        'Location' : 'Lalitpur,Patan',\n",
    "        'Profession' :'Data Analyst',\n",
    "        'Work Experience' : '2 Years',\n",
    "        'Education' : 'Graduated',\n",
    "        'Course' : 'Bachelors in Computer Application'\n",
    "    },\n",
    "    'Employee_2' : {\n",
    "        'Name' : 'Anish Shakya',\n",
    "        'Age' : 21,\n",
    "        'Location' : 'Kathmandu,Nepal',\n",
    "        'Profession' :'Data Engineer',\n",
    "        'Work Experience' : '3 Years',\n",
    "        'Education' : 'Graduated',\n",
    "        'Course' : 'Bachelors in Information Technology'\n",
    "}}\n",
    "\n",
    "### Dictionary within dictionary \n",
    "for key,value in employee_infos.items():\n",
    "    print(f'----------------{key}--------------')\n",
    "    for keys,values in value.items():\n",
    "        print(f'{keys}:{values}')\n",
    "\n",
    "print('--------------------------------------')\n",
    "print(employee_infos.get(\"Employee_1\"))"
   ]
  },
  {
   "cell_type": "code",
   "execution_count": 5,
   "metadata": {},
   "outputs": [
    {
     "name": "stdout",
     "output_type": "stream",
     "text": [
      "Meaning of Apple is Sayau\n"
     ]
    }
   ],
   "source": [
    "words = {\n",
    "    'Apple':'Sayau',\n",
    "    'Orange':'Suntala',\n",
    "    'Grapes':'Angur',   \n",
    "    \n",
    "}\n",
    "\n",
    "word = input('Enter the word you want the meaning of: ')\n",
    "print(f'Meaning of {word} is {words[word]}')"
   ]
  },
  {
   "cell_type": "markdown",
   "metadata": {},
   "source": [
    "## SET"
   ]
  },
  {
   "cell_type": "code",
   "execution_count": 6,
   "metadata": {},
   "outputs": [
    {
     "name": "stdout",
     "output_type": "stream",
     "text": [
      "<class 'set'>\n",
      "{1, 2, 3, 4, 5, 6, 7, 34}\n",
      "{1, 2, 3, 4, 5, 6, 99, 67, 34, 66, 432, 756, 87}\n",
      "{2, 4, 5, 6}\n"
     ]
    }
   ],
   "source": [
    "\n",
    "### SET\n",
    "\n",
    "s = {1,2,3,4,5,5,5,6,6,7,7,4,3,2,34,6}\n",
    "## There is no repetation of elements in set\n",
    "e = set()\n",
    "print(type(e))\n",
    "print(s)\n",
    "\n",
    "set1 = {2,2,4,5,6,3,2,6,87,99,67}\n",
    "set2 = {1,2,34,5,66,756,432,4,5,6}\n",
    "\n",
    "set_union = set1.union(set2) ## takes all unique elements present in set \n",
    "set_intersection = set1.intersection(set2) ## takes common elements in set\n",
    "\n",
    "print(set_union)\n",
    "print(set_intersection)"
   ]
  },
  {
   "cell_type": "code",
   "execution_count": null,
   "metadata": {},
   "outputs": [],
   "source": []
  }
 ],
 "metadata": {
  "kernelspec": {
   "display_name": "mylearnings",
   "language": "python",
   "name": "python3"
  },
  "language_info": {
   "codemirror_mode": {
    "name": "ipython",
    "version": 3
   },
   "file_extension": ".py",
   "mimetype": "text/x-python",
   "name": "python",
   "nbconvert_exporter": "python",
   "pygments_lexer": "ipython3",
   "version": "3.13.2"
  }
 },
 "nbformat": 4,
 "nbformat_minor": 2
}
