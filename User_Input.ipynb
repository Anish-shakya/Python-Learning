{
 "cells": [
  {
   "attachments": {},
   "cell_type": "markdown",
   "metadata": {},
   "source": [
    "User Input"
   ]
  },
  {
   "cell_type": "code",
   "execution_count": null,
   "metadata": {},
   "outputs": [],
   "source": [
    "name = str(input('Enter your name'))\n",
    "age = int(input('Enter your age'))\n",
    "language = str(input('Enter your Programming language'))\n",
    "Salary = float(input('Enter your salary'))\n",
    "\n",
    "print(f'Hello!! {name} your {age} years old.Your Salary is {Salary} and programming language is {language}')"
   ]
  },
  {
   "attachments": {},
   "cell_type": "markdown",
   "metadata": {},
   "source": [
    "Math Modules"
   ]
  },
  {
   "cell_type": "code",
   "execution_count": 12,
   "metadata": {},
   "outputs": [
    {
     "name": "stdout",
     "output_type": "stream",
     "text": [
      "3.1\n",
      "4\n",
      "3\n",
      "3.14\n",
      "9.8596\n",
      "1.772004514666935\n",
      "3\n",
      "1\n"
     ]
    }
   ],
   "source": [
    "import math\n",
    "\n",
    "pi = 3.14\n",
    "x,y,z = 1,2,3\n",
    "print(round(pi,1))\n",
    "print(math.ceil(pi))\n",
    "print(math.floor(pi))\n",
    "\n",
    "print(abs(pi))\n",
    "\n",
    "print(pow(pi,2))\n",
    "\n",
    "print(math.sqrt(pi))\n",
    "\n",
    "print(max(x,y,z))\n",
    "print(min(x,y,z))\n",
    "\n"
   ]
  }
 ],
 "metadata": {
  "kernelspec": {
   "display_name": "Python 3",
   "language": "python",
   "name": "python3"
  },
  "language_info": {
   "codemirror_mode": {
    "name": "ipython",
    "version": 3
   },
   "file_extension": ".py",
   "mimetype": "text/x-python",
   "name": "python",
   "nbconvert_exporter": "python",
   "pygments_lexer": "ipython3",
   "version": "3.11.2"
  },
  "orig_nbformat": 4
 },
 "nbformat": 4,
 "nbformat_minor": 2
}
