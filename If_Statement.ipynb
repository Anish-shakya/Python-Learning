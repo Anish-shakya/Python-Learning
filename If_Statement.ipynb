{
 "cells": [
  {
   "attachments": {},
   "cell_type": "markdown",
   "metadata": {},
   "source": [
    "If Statement and loops\n",
    "\n"
   ]
  },
  {
   "cell_type": "code",
   "execution_count": null,
   "metadata": {},
   "outputs": [],
   "source": [
    "age = int(input('How old are you?'))\n",
    "if age>=18:\n",
    "    print(f\"your {age} years old and you are eligible for vote\")\n",
    "else:   \n",
    "    print(f\"Your are not eligible for vote \")"
   ]
  },
  {
   "cell_type": "code",
   "execution_count": null,
   "metadata": {},
   "outputs": [],
   "source": [
    "age = int(input('how old are you?'))\n",
    "name= str(input('what is your name?'))\n",
    "\n",
    "if age <=18:\n",
    "    print(f'{name} you are child')\n",
    "elif age>=18 or age<30:\n",
    "    print(f'{name} You are young')\n",
    "else:\n",
    "    print(f'{name} you are adult')"
   ]
  },
  {
   "cell_type": "code",
   "execution_count": null,
   "metadata": {},
   "outputs": [],
   "source": [
    "temp = int(input('What is the temperature outside?'))\n",
    "\n",
    "if not(temp >= 0 and temp<= 30):\n",
    "    print('The temperature is bad today')\n",
    "    print('just stay home')\n",
    "   \n",
    "elif not(temp < 0 and temp> 30):\n",
    "    print('The temperature is good today')\n",
    "    print('just go Hangout')"
   ]
  },
  {
   "attachments": {},
   "cell_type": "markdown",
   "metadata": {},
   "source": [
    "While Loops\n"
   ]
  },
  {
   "cell_type": "code",
   "execution_count": null,
   "metadata": {},
   "outputs": [],
   "source": [
    "name =''\n",
    "\n",
    "while len(name) == 0:\n",
    "    name = input('enter your name')\n",
    "print(name)"
   ]
  },
  {
   "attachments": {},
   "cell_type": "markdown",
   "metadata": {},
   "source": [
    "For Loops"
   ]
  },
  {
   "cell_type": "code",
   "execution_count": null,
   "metadata": {},
   "outputs": [],
   "source": [
    "import time\n",
    "for i in range(10):\n",
    "    print(i+1)\n",
    "\n",
    "for i in range(50,1):\n",
    "    print(i)\n",
    "\n",
    "for i in range(1,20,3):\n",
    "    print(i)\n",
    "\n",
    "for i in \"Anish\":\n",
    "    print(i)\n",
    "\n",
    "for seconds in range(10,0,-1):\n",
    "    print(seconds)\n",
    "    time.sleep(1)\n",
    "print(\"Hey Anish\")"
   ]
  },
  {
   "attachments": {},
   "cell_type": "markdown",
   "metadata": {},
   "source": [
    "Nested Loops in Python"
   ]
  },
  {
   "cell_type": "code",
   "execution_count": null,
   "metadata": {},
   "outputs": [],
   "source": [
    "##The inner loop will finish all of it's iteration before finishing one iteration of outer loop\n",
    "\n",
    "rows = int(input('Input row'))\n",
    "columns = int(input('Intput column'))\n",
    "symbol = input('Input Symbol')\n",
    "\n",
    "for i in range(rows):\n",
    "    for j in range(columns):\n",
    "        print(symbol, end ='')\n",
    "    print()"
   ]
  },
  {
   "attachments": {},
   "cell_type": "markdown",
   "metadata": {},
   "source": [
    "Loop control statement"
   ]
  },
  {
   "cell_type": "code",
   "execution_count": null,
   "metadata": {},
   "outputs": [],
   "source": [
    "while True:\n",
    "    name = input('enter your name')\n",
    "    if name != \"\":\n",
    "        break\n",
    "\n",
    "\n",
    "PhoneNumber = \"977-9849245269\"\n",
    "\n",
    "for i in PhoneNumber:\n",
    "    if i == '-':\n",
    "        continue\n",
    "    print(i, end ='')\n",
    "\n",
    "for i in range(1,21):\n",
    "    if i == 13:\n",
    "        pass\n",
    "    else :\n",
    "        print (i)"
   ]
  }
 ],
 "metadata": {
  "kernelspec": {
   "display_name": "Python 3",
   "language": "python",
   "name": "python3"
  },
  "language_info": {
   "codemirror_mode": {
    "name": "ipython",
    "version": 3
   },
   "file_extension": ".py",
   "mimetype": "text/x-python",
   "name": "python",
   "nbconvert_exporter": "python",
   "pygments_lexer": "ipython3",
   "version": "3.11.2"
  },
  "orig_nbformat": 4
 },
 "nbformat": 4,
 "nbformat_minor": 2
}
