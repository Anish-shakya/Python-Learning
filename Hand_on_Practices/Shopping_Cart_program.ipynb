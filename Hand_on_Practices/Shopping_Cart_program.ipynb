{
 "cells": [
  {
   "cell_type": "code",
   "execution_count": null,
   "id": "731a7250",
   "metadata": {},
   "outputs": [
    {
     "name": "stdout",
     "output_type": "stream",
     "text": [
      "-------YOUR CART------\n",
      "pizza burger \n",
      "Your Total Price is : 2000.0\n"
     ]
    }
   ],
   "source": [
    "foods = []\n",
    "prices = []\n",
    "total = 0\n",
    "\n",
    "while True:\n",
    "    food = input('Enter a food to buy and enter q/Q to quit:')\n",
    "    if food.lower() =='q':\n",
    "        break\n",
    "    else:\n",
    "        price =float(input(f'Enter the price of a {food}:Rs.')) \n",
    "        foods.append(food)\n",
    "        prices.append(price)\n",
    "        \n",
    "print('-------YOUR CART------')\n",
    "for food in foods:\n",
    "    print(food,end=\" \")\n",
    "    \n",
    "for price in prices:\n",
    "    total +=price\n",
    "    \n",
    "print()\n",
    "print(f'Your Total Price is :Rs.{total}')\n",
    "\n",
    "    "
   ]
  }
 ],
 "metadata": {
  "kernelspec": {
   "display_name": "mylearnings",
   "language": "python",
   "name": "python3"
  },
  "language_info": {
   "codemirror_mode": {
    "name": "ipython",
    "version": 3
   },
   "file_extension": ".py",
   "mimetype": "text/x-python",
   "name": "python",
   "nbconvert_exporter": "python",
   "pygments_lexer": "ipython3",
   "version": "3.13.2"
  }
 },
 "nbformat": 4,
 "nbformat_minor": 5
}
