{
 "cells": [
  {
   "cell_type": "code",
   "execution_count": 24,
   "id": "f6010d60",
   "metadata": {},
   "outputs": [],
   "source": [
    "\n",
    "questions=(\n",
    "    \"How many elements are in the periodic table? :\",\n",
    "    \"Which animal lays the largest eggs? :\",\n",
    "    \"What is the most abundant gas in Earth's atmosphere? :\",\n",
    "    \"How many bones are in the human body? :\",\n",
    "    \"Which planet in the solar system is the hottest? :\"\n",
    ")\n",
    "options=(\n",
    "    (\"A. 116\",\"B. 117\",\"C. 118\",\"D. 119\"),\n",
    "    (\"A. Whale\",\"B. Crocodile\",\"C. Elephant\",\"D. Ostrich\"),\n",
    "    (\"A. Nitrogen\",\"B. Oxygen\",\"C. Carbon Dioxide\",\"D. Hydrogen\"),\n",
    "    (\"A. 206\",\"B. 207\",\"C. 208\",\"D. 209\"),\n",
    "    (\"A. Mercury\",\"B. Venus\",\"C. Jupiter\",\"D. Mars\")\n",
    ")\n",
    "\n",
    "answers=(\"C\",\"D\",\"A\",\"A\",\"B\")\n",
    "\n",
    "guesses = []\n",
    "\n",
    "question_num=0\n",
    "\n",
    "score = 0\n"
   ]
  },
  {
   "cell_type": "code",
   "execution_count": null,
   "id": "6e911722",
   "metadata": {},
   "outputs": [
    {
     "name": "stdout",
     "output_type": "stream",
     "text": [
      "-------------------------------\n",
      "How many elements are in the periodic table? :\n",
      "A. 116\n",
      "B. 117\n",
      "C. 118\n",
      "D. 119\n",
      "Correct\n",
      "-------------------------------\n",
      "Which animal lays the largest eggs? :\n",
      "A. Whale\n",
      "B. Crocodile\n",
      "C. Elephant\n",
      "D. Ostrich\n",
      "Correct\n",
      "-------------------------------\n",
      "What is the most abundant gas in Earth's atmosphere? :\n",
      "A. Nitrogen\n",
      "B. Oxygen\n",
      "C. Carbon Dioxide\n",
      "D. Hydrogen\n",
      "Correct\n",
      "-------------------------------\n",
      "How many bones are in the human body? :\n",
      "A. 206\n",
      "B. 207\n",
      "C. 208\n",
      "D. 209\n",
      "Incorrect\n",
      "A is the correct answer\n",
      "-------------------------------\n",
      "Which planet in the solar system is the hottest? :\n",
      "A. Mercury\n",
      "B. Venus\n",
      "C. Jupiter\n",
      "D. Mars\n",
      "Correct\n",
      "Your Total Score is 4\n"
     ]
    }
   ],
   "source": [
    "for question in questions:\n",
    "    print('-------------------------------')\n",
    "    print(question)\n",
    "    for option in options[question_num]:\n",
    "        print(option)\n",
    "        \n",
    "    guess = input(f'Enter (A,B,C,D) to answer for question no {question_num}:').upper()\n",
    "    guesses.append(guesses)\n",
    "    if guess == answers[question_num]:\n",
    "        print('Correct')\n",
    "        score +=1\n",
    "    else:\n",
    "        print('Incorrect')\n",
    "        print(f'{answers[question_num]} is the correct answer')\n",
    "    question_num+=1\n",
    "print('-------------------------------')\n",
    "\n",
    "print(f'Your Total Score is {score}')"
   ]
  }
 ],
 "metadata": {
  "kernelspec": {
   "display_name": "mylearnings",
   "language": "python",
   "name": "python3"
  },
  "language_info": {
   "codemirror_mode": {
    "name": "ipython",
    "version": 3
   },
   "file_extension": ".py",
   "mimetype": "text/x-python",
   "name": "python",
   "nbconvert_exporter": "python",
   "pygments_lexer": "ipython3",
   "version": "3.13.2"
  }
 },
 "nbformat": 4,
 "nbformat_minor": 5
}
