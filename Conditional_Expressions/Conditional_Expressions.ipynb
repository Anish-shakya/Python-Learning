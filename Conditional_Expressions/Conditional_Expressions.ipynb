{
 "cells": [
  {
   "cell_type": "markdown",
   "metadata": {},
   "source": [
    "## IF ELIF ELSE\n"
   ]
  },
  {
   "cell_type": "code",
   "execution_count": 3,
   "metadata": {},
   "outputs": [
    {
     "name": "stdout",
     "output_type": "stream",
     "text": [
      "Zero cannot be someone's age\n"
     ]
    }
   ],
   "source": [
    "a = int(input('Enter your age'))\n",
    "\n",
    "if(a>=18):\n",
    "    print('You are eligible for concert')\n",
    "elif(a<0):\n",
    "    print('You have entered invalid age')\n",
    "elif(a==0):\n",
    "    print('Zero cannot be someone\\'s age')\n",
    "else:\n",
    "    print('You are under age')"
   ]
  },
  {
   "cell_type": "code",
   "execution_count": 5,
   "metadata": {},
   "outputs": [
    {
     "name": "stdout",
     "output_type": "stream",
     "text": [
      "18 is even\n",
      "You are eligible for concert\n"
     ]
    }
   ],
   "source": [
    "a = int(input('Enter your age'))\n",
    "\n",
    "##if statement 1\n",
    "if(a%2==0):\n",
    "    print(f'{a} is even')\n",
    "\n",
    "## if statement 2\n",
    "if(a>=18):\n",
    "    print('You are eligible for concert')\n",
    "elif(a<0):\n",
    "    print('You have entered invalid age')\n",
    "elif(a==0):\n",
    "    print('Zero cannot be someone\\'s age')\n",
    "else:\n",
    "    print('You are under age')"
   ]
  },
  {
   "cell_type": "code",
   "execution_count": null,
   "metadata": {},
   "outputs": [
    {
     "name": "stdout",
     "output_type": "stream",
     "text": [
      "You are Pass\n",
      "Your total marks is 120 and percentage is 40.0\n"
     ]
    }
   ],
   "source": [
    "marks1 = int(input('Enter Marks1:'))\n",
    "marks2 = int(input('Enter Marks2:'))\n",
    "marks3 = int(input('Enter Marks3:'))\n",
    "\n",
    "## check for total percentage \n",
    "total_marks = marks1+marks2+marks3\n",
    "total_percentage = (total_marks/300)*100\n",
    "\n",
    "if(total_percentage>=40 and marks1>=33 and marks2>=33 and marks3>=33):\n",
    "    print('You are Pass')\n",
    "    print(f'Your total marks is {total_marks} and percentage is {total_percentage}')\n",
    "else:\n",
    "    print('Try Again Next Year')\n"
   ]
  },
  {
   "cell_type": "code",
   "execution_count": 14,
   "metadata": {},
   "outputs": [
    {
     "name": "stdout",
     "output_type": "stream",
     "text": [
      "This is spam message\n"
     ]
    }
   ],
   "source": [
    "spam=['make a lot of money','buy now','subscribe now','click this']\n",
    "\n",
    "comment = 'Hey buddy do you want to make a lot of money. If yes subscribe now'\n",
    "\n",
    "comment2 = 'Hey buddy'\n",
    "\n",
    "for i in spam:\n",
    "    if i in comment:\n",
    "        print('This is spam message')\n",
    "        break\n",
    "    else:\n",
    "        print('This is clear')\n",
    "        break"
   ]
  }
 ],
 "metadata": {
  "kernelspec": {
   "display_name": "mylearnings",
   "language": "python",
   "name": "python3"
  },
  "language_info": {
   "codemirror_mode": {
    "name": "ipython",
    "version": 3
   },
   "file_extension": ".py",
   "mimetype": "text/x-python",
   "name": "python",
   "nbconvert_exporter": "python",
   "pygments_lexer": "ipython3",
   "version": "3.13.2"
  }
 },
 "nbformat": 4,
 "nbformat_minor": 2
}
