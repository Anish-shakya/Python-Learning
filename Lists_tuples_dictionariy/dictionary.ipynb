{
 "cells": [
  {
   "attachments": {},
   "cell_type": "markdown",
   "metadata": {},
   "source": [
    "dictionary = A changable unordered collection of unique key:value pairs\n",
    "Fast because they uss hashing, allow us to access a value quickly"
   ]
  },
  {
   "cell_type": "code",
   "execution_count": null,
   "metadata": {},
   "outputs": [],
   "source": [
    "countries = {'name':'Nepal',\n",
    "             'code':1001,\n",
    "             'capital':'kathmandu',\n",
    "             'Province' : 7,\n",
    "             }\n",
    "\n",
    "print(countries['name'])\n",
    "print(countries.get('capital'))\n",
    "print(countries.keys())\n",
    "print(countries.values())\n",
    "print(countries.items())\n",
    "\n",
    "countries.update({'city' :'Patan'})\n",
    "countries.pop('city')\n",
    "countries.clear()\n",
    "\n",
    "for key,value in countries.items():\n",
    "    print(key,value)"
   ]
  }
 ],
 "metadata": {
  "kernelspec": {
   "display_name": "Python 3",
   "language": "python",
   "name": "python3"
  },
  "language_info": {
   "codemirror_mode": {
    "name": "ipython",
    "version": 3
   },
   "file_extension": ".py",
   "mimetype": "text/x-python",
   "name": "python",
   "nbconvert_exporter": "python",
   "pygments_lexer": "ipython3",
   "version": "3.11.2"
  },
  "orig_nbformat": 4
 },
 "nbformat": 4,
 "nbformat_minor": 2
}
