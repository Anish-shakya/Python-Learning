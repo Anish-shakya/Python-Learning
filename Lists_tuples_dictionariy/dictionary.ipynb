{
 "cells": [
  {
   "attachments": {},
   "cell_type": "markdown",
   "metadata": {},
   "source": [
    "dictionary = A changable unordered collection of unique key:value pairs\n",
    "Fast because they uss hashing, allow us to access a value quickly"
   ]
  },
  {
   "cell_type": "code",
   "execution_count": null,
   "metadata": {},
   "outputs": [],
   "source": [
    "countries = {'name':'Nepal',\n",
    "             'code':1001,\n",
    "             'capital':'kathmandu',\n",
    "             'Province' : 7,\n",
    "             }\n",
    "\n",
    "print(countries['name'])\n",
    "print(countries.get('capital'))\n",
    "print(countries.keys()) #return all keys only\n",
    "print(countries.values()) #returns all values only\n",
    "print(countries.items()) #both key and values\n",
    "\n",
    "countries.update({'city' :'Patan'})\n",
    "countries.pop('city') ##pop last item\n",
    "countries.clear() ## clear dictionary or remove all key value pairs\n",
    "\n",
    "for key,value in countries.items():\n",
    "    print(key,value)"
   ]
  },
  {
   "cell_type": "code",
   "execution_count": 2,
   "metadata": {},
   "outputs": [
    {
     "name": "stdout",
     "output_type": "stream",
     "text": [
      "name:Anish Shakya\n",
      "roll_no:101\n",
      "subject:Data Analysis\n",
      "class:E201\n"
     ]
    }
   ],
   "source": [
    "students ={\n",
    "'name':'Anish Shakya',\n",
    "'roll_no':101,\n",
    "'subject':'Data Analysis',\n",
    "'class':'E201'\n",
    "}\n",
    "\n",
    "for key,value in students.items():\n",
    "    print(f'{key}:{value}')"
   ]
  }
 ],
 "metadata": {
  "kernelspec": {
   "display_name": "Python 3",
   "language": "python",
   "name": "python3"
  },
  "language_info": {
   "codemirror_mode": {
    "name": "ipython",
    "version": 3
   },
   "file_extension": ".py",
   "mimetype": "text/x-python",
   "name": "python",
   "nbconvert_exporter": "python",
   "pygments_lexer": "ipython3",
   "version": "3.12.1"
  },
  "orig_nbformat": 4
 },
 "nbformat": 4,
 "nbformat_minor": 2
}
