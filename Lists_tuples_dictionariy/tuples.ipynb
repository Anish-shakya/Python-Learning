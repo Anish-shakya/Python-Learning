{
 "cells": [
  {
   "attachments": {},
   "cell_type": "markdown",
   "metadata": {},
   "source": [
    "Tuples  = collection which is ordered and unchangable Used to group together related data"
   ]
  },
  {
   "cell_type": "code",
   "execution_count": 7,
   "metadata": {},
   "outputs": [
    {
     "name": "stdout",
     "output_type": "stream",
     "text": [
      "1\n",
      "2\n",
      "Anish Shakya\n",
      "21\n",
      "Patan\n",
      "Male\n",
      "Patan is here!!\n"
     ]
    }
   ],
   "source": [
    "Student =('Anish Shakya',21,'Patan','Male')\n",
    "\n",
    "count=Student.count('Anish Shakya') ##count the number  of times that value present in the tuples\n",
    "print(count)\n",
    "\n",
    "index = Student.index('Patan') #return the index where that values lies in tuple\n",
    "print(index)\n",
    "\n",
    "for i in Student:\n",
    "    print(i)\n",
    "\n",
    "if \"Patan\" in Student:\n",
    "    print('Patan is here!!')"
   ]
  }
 ],
 "metadata": {
  "kernelspec": {
   "display_name": "Python 3",
   "language": "python",
   "name": "python3"
  },
  "language_info": {
   "codemirror_mode": {
    "name": "ipython",
    "version": 3
   },
   "file_extension": ".py",
   "mimetype": "text/x-python",
   "name": "python",
   "nbconvert_exporter": "python",
   "pygments_lexer": "ipython3",
   "version": "3.11.2"
  },
  "orig_nbformat": 4
 },
 "nbformat": 4,
 "nbformat_minor": 2
}
