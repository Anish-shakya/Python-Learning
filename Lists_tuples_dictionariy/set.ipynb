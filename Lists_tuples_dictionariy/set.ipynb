{
 "cells": [
  {
   "attachments": {},
   "cell_type": "markdown",
   "metadata": {},
   "source": [
    "Set = collection which is unordered, unindexed and contain no duplicate values"
   ]
  },
  {
   "cell_type": "code",
   "execution_count": 44,
   "metadata": {},
   "outputs": [
    {
     "name": "stdout",
     "output_type": "stream",
     "text": [
      "forks\n",
      "knife\n",
      "spoon\n",
      "bowl\n",
      "plate\n",
      "cup\n"
     ]
    }
   ],
   "source": [
    "utensils = {'forks','spoon','knife'}\n",
    "dishes ={'bowl','cup','plate'}\n",
    "\n",
    "# utensils.add('plates')\n",
    "\n",
    "# utensils.remove('spoon')\n",
    "\n",
    "# utensils.clear()\n",
    "\n",
    "#utensils.update(dishes) #this ill add all the elements found in dishes set to utensils set\n",
    "\n",
    "dinner_table = utensils.union(dishes)\n",
    "for x in dinner_table:\n",
    "    print(x)"
   ]
  }
 ],
 "metadata": {
  "kernelspec": {
   "display_name": "Python 3",
   "language": "python",
   "name": "python3"
  },
  "language_info": {
   "codemirror_mode": {
    "name": "ipython",
    "version": 3
   },
   "file_extension": ".py",
   "mimetype": "text/x-python",
   "name": "python",
   "nbconvert_exporter": "python",
   "pygments_lexer": "ipython3",
   "version": "3.11.2"
  },
  "orig_nbformat": 4
 },
 "nbformat": 4,
 "nbformat_minor": 2
}
