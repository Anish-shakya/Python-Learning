{
 "cells": [
  {
   "attachments": {},
   "cell_type": "markdown",
   "metadata": {},
   "source": [
    "Set = collection which is unordered, unindexed and contain no duplicate values"
   ]
  },
  {
   "cell_type": "code",
   "execution_count": null,
   "metadata": {},
   "outputs": [],
   "source": [
    "utensils = {'forks','spoon','knife'}\n",
    "dishes ={'bowl','cup','plate','knife'}\n",
    "\n",
    "utensils.add('plates')\n",
    "\n",
    "utensils.remove('spoon')\n",
    "\n",
    "utensils.clear()\n",
    "\n",
    "utensils.update(dishes) #this ill add all the elements found in dishes set to utensils set\n",
    "\n",
    "dinner_table = utensils.union(dishes)\n",
    "difference=utensils.difference(dishes)\n",
    "\n",
    "intersection = utensils.intersection(dishes)\n",
    "\n",
    "for x in intersection:\n",
    "    print(x)"
   ]
  }
 ],
 "metadata": {
  "kernelspec": {
   "display_name": "Python 3",
   "language": "python",
   "name": "python3"
  },
  "language_info": {
   "codemirror_mode": {
    "name": "ipython",
    "version": 3
   },
   "file_extension": ".py",
   "mimetype": "text/x-python",
   "name": "python",
   "nbconvert_exporter": "python",
   "pygments_lexer": "ipython3",
   "version": "3.11.2"
  },
  "orig_nbformat": 4
 },
 "nbformat": 4,
 "nbformat_minor": 2
}
