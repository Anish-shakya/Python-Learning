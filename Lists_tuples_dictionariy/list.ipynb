{
 "cells": [
  {
   "attachments": {},
   "cell_type": "markdown",
   "metadata": {},
   "source": [
    "List = used to sore multiple item in a single variable"
   ]
  },
  {
   "cell_type": "code",
   "execution_count": null,
   "metadata": {},
   "outputs": [],
   "source": [
    "food = ['pizza','momo','burger','hot dog','sausage','keema noodles','laphing']\n",
    "\n",
    "print(food[1])\n",
    "print(food[3])\n",
    "food[3] = 'Naan'\n",
    "print(food[3])\n",
    "\n",
    "for i in food:\n",
    "    print(i)"
   ]
  },
  {
   "attachments": {},
   "cell_type": "markdown",
   "metadata": {},
   "source": [
    "Functions for lists"
   ]
  },
  {
   "cell_type": "code",
   "execution_count": null,
   "metadata": {},
   "outputs": [],
   "source": [
    "food.append('Corndog')  #adds items to at the last \n",
    "food.remove('Corndog') #remove items from the list\n",
    "food.pop() #pop or remove last item from the list\n",
    "\n",
    "food.insert(0,'cake') #add item to the specific index\n",
    "\n",
    "food.sort() ##sort the list\n",
    "\n",
    "food.clear() # removes all the elements of list\n",
    "for i in food:\n",
    "    print(i)"
   ]
  },
  {
   "attachments": {},
   "cell_type": "markdown",
   "metadata": {},
   "source": [
    "2D List"
   ]
  },
  {
   "cell_type": "code",
   "execution_count": null,
   "metadata": {},
   "outputs": [],
   "source": [
    "drinks = ['coke','fanta','lemonade']\n",
    "dinner = ['biriyani','hot wings','pizza']\n",
    "deserts =['lalmohan','cake','ice cream']\n",
    "\n",
    "menu =[drinks,dinner,deserts]\n",
    "\n",
    "print(menu)\n",
    "print(menu[0])\n",
    "print(menu[1])\n",
    "print(menu[2])\n",
    "\n",
    "print(menu[0][0])\n",
    "print(menu[0][1])\n",
    "print(menu[0][2])"
   ]
  }
 ],
 "metadata": {
  "kernelspec": {
   "display_name": "Python 3",
   "language": "python",
   "name": "python3"
  },
  "language_info": {
   "codemirror_mode": {
    "name": "ipython",
    "version": 3
   },
   "file_extension": ".py",
   "mimetype": "text/x-python",
   "name": "python",
   "nbconvert_exporter": "python",
   "pygments_lexer": "ipython3",
   "version": "3.11.2"
  },
  "orig_nbformat": 4
 },
 "nbformat": 4,
 "nbformat_minor": 2
}
