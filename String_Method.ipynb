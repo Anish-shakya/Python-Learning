{
 "cells": [
  {
   "attachments": {},
   "cell_type": "markdown",
   "metadata": {},
   "source": [
    "String Methods"
   ]
  },
  {
   "cell_type": "code",
   "execution_count": 3,
   "metadata": {},
   "outputs": [
    {
     "name": "stdout",
     "output_type": "stream",
     "text": [
      "5\n",
      "2\n",
      "ANISH\n",
      "anish\n",
      "Anish\n",
      "False\n",
      "True\n",
      "1\n",
      "anish\n",
      "AnishAnishAnish\n"
     ]
    }
   ],
   "source": [
    "name = 'Anish'\n",
    "\n",
    "print(len(name)) ##print lenght of character is string\n",
    "\n",
    "print(name.find('i')) ## finds the index of the character in the string \n",
    "\n",
    "print(name.upper()) ##convert string to upper case\n",
    "print(name.lower()) ##convert string to lowercase\n",
    "print(name.capitalize()) ##converts first letter to uppercase\n",
    "\n",
    "print(name.isdigit()) ##returns true if it is number\n",
    "print(name.isalpha()) ##returns true if it contains only alphabetical letters\n",
    "\n",
    "print(name.count('n')) ## counts number of o in sting\n",
    "print(name.replace('A','a')) ##replace the string with new one\n",
    "\n",
    "print(name * 3)\n",
    "\n"
   ]
  }
 ],
 "metadata": {
  "kernelspec": {
   "display_name": "Python 3",
   "language": "python",
   "name": "python3"
  },
  "language_info": {
   "codemirror_mode": {
    "name": "ipython",
    "version": 3
   },
   "file_extension": ".py",
   "mimetype": "text/x-python",
   "name": "python",
   "nbconvert_exporter": "python",
   "pygments_lexer": "ipython3",
   "version": "3.11.2"
  },
  "orig_nbformat": 4
 },
 "nbformat": 4,
 "nbformat_minor": 2
}
